{
  "nbformat": 4,
  "nbformat_minor": 0,
  "metadata": {
    "colab": {
      "provenance": [],
      "include_colab_link": true
    },
    "kernelspec": {
      "name": "python3",
      "display_name": "Python 3"
    },
    "language_info": {
      "name": "python"
    }
  },
  "cells": [
    {
      "cell_type": "markdown",
      "metadata": {
        "id": "view-in-github",
        "colab_type": "text"
      },
      "source": [
        "<a href=\"https://colab.research.google.com/github/Pragadesh-45/AI-Notebooks/blob/main/Model_Explainability_using_SHAP_.ipynb\" target=\"_parent\"><img src=\"https://colab.research.google.com/assets/colab-badge.svg\" alt=\"Open In Colab\"/></a>"
      ]
    },
    {
      "cell_type": "code",
      "execution_count": 17,
      "metadata": {
        "id": "RAVOThjpWI88",
        "colab": {
          "base_uri": "https://localhost:8080/"
        },
        "outputId": "e0752f51-ce0c-45ca-cdf4-b043bb5237bb"
      },
      "outputs": [
        {
          "output_type": "stream",
          "name": "stdout",
          "text": [
            "Cloning into 'Data-driven-Ship-Fuel-Efficiency-Modeling'...\n",
            "remote: Enumerating objects: 77, done.\u001b[K\n",
            "remote: Counting objects: 100% (77/77), done.\u001b[K\n",
            "remote: Compressing objects: 100% (58/58), done.\u001b[K\n",
            "remote: Total 77 (delta 19), reused 61 (delta 11), pack-reused 0\u001b[K\n",
            "Receiving objects: 100% (77/77), 3.24 MiB | 25.35 MiB/s, done.\n",
            "Resolving deltas: 100% (19/19), done.\n",
            "Downloading TrainedModels.zip (157 MB)\n",
            "Error downloading object: TrainedModels.zip (d395556): Smudge error: Error downloading TrainedModels.zip (d3955560fdedbb37eb48d812efd88220cb30740c63f307ae0959bdb6cd59c95d): batch response: This repository is over its data quota. Account responsible for LFS bandwidth should purchase more data packs to restore access.\n",
            "\n",
            "Errors logged to /content/Data-driven-Ship-Fuel-Efficiency-Modeling/Data-driven-Ship-Fuel-Efficiency-Modeling/.git/lfs/logs/20231219T182848.024339531.log\n",
            "Use `git lfs logs last` to view the log.\n",
            "error: external filter 'git-lfs filter-process' failed\n",
            "fatal: TrainedModels.zip: smudge filter lfs failed\n",
            "warning: Clone succeeded, but checkout failed.\n",
            "You can inspect what was checked out with 'git status'\n",
            "and retry with 'git restore --source=HEAD :/'\n",
            "\n",
            "/content/Data-driven-Ship-Fuel-Efficiency-Modeling\n",
            "unzip:  cannot find or open TrainedModels.zip, TrainedModels.zip.zip or TrainedModels.zip.ZIP.\n",
            "Requirement already satisfied: shap in /usr/local/lib/python3.10/dist-packages (0.44.0)\n",
            "Requirement already satisfied: numpy in /usr/local/lib/python3.10/dist-packages (from shap) (1.23.5)\n",
            "Requirement already satisfied: scipy in /usr/local/lib/python3.10/dist-packages (from shap) (1.11.4)\n",
            "Requirement already satisfied: scikit-learn in /usr/local/lib/python3.10/dist-packages (from shap) (1.2.2)\n",
            "Requirement already satisfied: pandas in /usr/local/lib/python3.10/dist-packages (from shap) (1.5.3)\n",
            "Requirement already satisfied: tqdm>=4.27.0 in /usr/local/lib/python3.10/dist-packages (from shap) (4.66.1)\n",
            "Requirement already satisfied: packaging>20.9 in /usr/local/lib/python3.10/dist-packages (from shap) (23.2)\n",
            "Requirement already satisfied: slicer==0.0.7 in /usr/local/lib/python3.10/dist-packages (from shap) (0.0.7)\n",
            "Requirement already satisfied: numba in /usr/local/lib/python3.10/dist-packages (from shap) (0.58.1)\n",
            "Requirement already satisfied: cloudpickle in /usr/local/lib/python3.10/dist-packages (from shap) (2.2.1)\n",
            "Requirement already satisfied: llvmlite<0.42,>=0.41.0dev0 in /usr/local/lib/python3.10/dist-packages (from numba->shap) (0.41.1)\n",
            "Requirement already satisfied: python-dateutil>=2.8.1 in /usr/local/lib/python3.10/dist-packages (from pandas->shap) (2.8.2)\n",
            "Requirement already satisfied: pytz>=2020.1 in /usr/local/lib/python3.10/dist-packages (from pandas->shap) (2023.3.post1)\n",
            "Requirement already satisfied: joblib>=1.1.1 in /usr/local/lib/python3.10/dist-packages (from scikit-learn->shap) (1.3.2)\n",
            "Requirement already satisfied: threadpoolctl>=2.0.0 in /usr/local/lib/python3.10/dist-packages (from scikit-learn->shap) (3.2.0)\n",
            "Requirement already satisfied: six>=1.5 in /usr/local/lib/python3.10/dist-packages (from python-dateutil>=2.8.1->pandas->shap) (1.16.0)\n"
          ]
        }
      ],
      "source": [
        "!git clone https://github.com/yuquandu/Data-driven-Ship-Fuel-Efficiency-Modeling\n",
        "%cd /content/Data-driven-Ship-Fuel-Efficiency-Modeling\n",
        "!unzip TrainedModels.zip\n",
        "!pip install shap\n"
      ]
    },
    {
      "cell_type": "code",
      "source": [
        "# Import machine learning models packages in Python\n",
        "import os\n",
        "import time\n",
        "import joblib\n",
        "import openpyxl\n",
        "import numpy as np\n",
        "import pandas as pd\n",
        "import matplotlib.pyplot as plt\n",
        "\n",
        "from sklearn import svm\n",
        "from sklearn.neural_network import MLPRegressor\n",
        "from sklearn.model_selection import learning_curve\n",
        "from sklearn.model_selection import train_test_split\n",
        "from sklearn.ensemble import RandomForestRegressor, ExtraTreesRegressor, GradientBoostingRegressor\n",
        "from sklearn.metrics import r2_score, mean_squared_error, mean_absolute_error, explained_variance_score\n",
        "\n",
        "import xgboost as xgb\n",
        "from xgboost.sklearn import XGBRegressor\n",
        "import shap\n",
        "\n",
        "import requests\n",
        "from io import BytesIO\n",
        "import random"
      ],
      "metadata": {
        "id": "J-dgdi3yVjzx"
      },
      "execution_count": 20,
      "outputs": []
    },
    {
      "cell_type": "code",
      "source": [
        "# Load model\n",
        "model_url = \"https://raw.githubusercontent.com/Pragadesh-45/maritime/main/Ship_S5_XG_Sensor2\"\n",
        "response = requests.get(model_url)\n",
        "model_ = joblib.load(BytesIO(response.content))\n",
        "\n",
        "path_model = model_\n"
      ],
      "metadata": {
        "colab": {
          "base_uri": "https://localhost:8080/"
        },
        "id": "jVh-LgZNVt_6",
        "outputId": "a72ac5a3-436f-4302-aaad-1bbb19c04804"
      },
      "execution_count": 22,
      "outputs": [
        {
          "output_type": "stream",
          "name": "stderr",
          "text": [
            "[18:31:09] WARNING: /workspace/src/learner.cc:873: Found JSON model saved before XGBoost 1.6, please save the model using current version again. The support for old JSON model will be discontinued in XGBoost 2.3.\n"
          ]
        }
      ]
    },
    {
      "cell_type": "code",
      "source": [
        "import pandas as pd\n",
        "\n",
        "# # Lowest Values\n",
        "# sailingSpeed = 12\n",
        "# draft = 7\n",
        "# trim = -2.0\n",
        "# windSpeed = 0\n",
        "# windDirection = 0\n",
        "# currentSpeed = 0\n",
        "# currentDirection = 0\n",
        "# combinedWaveHeight = 0\n",
        "# combinedWaveDirection = 0\n",
        "# combinedWavePeriod = 0\n",
        "# seaWaterTemp = 0\n",
        "\n",
        "#Highest Values\n",
        "# sailingSpeed = 26\n",
        "# draft = 14\n",
        "# trim = 5\n",
        "# windSpeed = 40\n",
        "# windDirection = 180\n",
        "# currentSpeed = 3.5\n",
        "# currentDirection = 180\n",
        "# combinedWaveHeight = 8\n",
        "# combinedWaveDirection = 180\n",
        "# combinedWavePeriod = 15\n",
        "# seaWaterTemp = 35\n",
        "\n",
        "#Highest Values\n",
        "\n",
        "# Create a list of values\n",
        "values = [sailingSpeed, draft, trim, windSpeed, windDirection, currentSpeed,\n",
        "          currentDirection, combinedWaveHeight, combinedWavePeriod,\n",
        "          combinedWaveDirection, seaWaterTemp]\n",
        "\n",
        "# Create a DataFrame with a single row and 11 columns\n",
        "x_expr = pd.DataFrame([values], columns=['sailingSpeed', 'draft', 'trim', 'windSpeed', 'windDirection',\n",
        "                                          'currentSpeed', 'currentDirection', 'combinedWaveHeight',\n",
        "                                          'combinedWavePeriod', 'combinedWaveDirection', 'seaWaterTemp'])\n"
      ],
      "metadata": {
        "id": "8lj5-go7WNA5"
      },
      "execution_count": 53,
      "outputs": []
    },
    {
      "cell_type": "code",
      "source": [
        "x_expr"
      ],
      "metadata": {
        "colab": {
          "base_uri": "https://localhost:8080/",
          "height": 109
        },
        "id": "Hm0Vkc0sWVFa",
        "outputId": "16233aca-23c3-47a7-f69a-d4a0898936d8"
      },
      "execution_count": 54,
      "outputs": [
        {
          "output_type": "execute_result",
          "data": {
            "text/plain": [
              "   sailingSpeed     draft      trim  windSpeed  windDirection  currentSpeed  \\\n",
              "0     17.819268  9.523762  3.033185  28.739523     150.915178      0.221266   \n",
              "\n",
              "   currentDirection  combinedWaveHeight  combinedWavePeriod  \\\n",
              "0        164.832166            4.459258            4.609775   \n",
              "\n",
              "   combinedWaveDirection  seaWaterTemp  \n",
              "0               38.30329     34.395791  "
            ],
            "text/html": [
              "\n",
              "  <div id=\"df-f4ca757c-2e65-4988-b533-f2b0b90da52d\" class=\"colab-df-container\">\n",
              "    <div>\n",
              "<style scoped>\n",
              "    .dataframe tbody tr th:only-of-type {\n",
              "        vertical-align: middle;\n",
              "    }\n",
              "\n",
              "    .dataframe tbody tr th {\n",
              "        vertical-align: top;\n",
              "    }\n",
              "\n",
              "    .dataframe thead th {\n",
              "        text-align: right;\n",
              "    }\n",
              "</style>\n",
              "<table border=\"1\" class=\"dataframe\">\n",
              "  <thead>\n",
              "    <tr style=\"text-align: right;\">\n",
              "      <th></th>\n",
              "      <th>sailingSpeed</th>\n",
              "      <th>draft</th>\n",
              "      <th>trim</th>\n",
              "      <th>windSpeed</th>\n",
              "      <th>windDirection</th>\n",
              "      <th>currentSpeed</th>\n",
              "      <th>currentDirection</th>\n",
              "      <th>combinedWaveHeight</th>\n",
              "      <th>combinedWavePeriod</th>\n",
              "      <th>combinedWaveDirection</th>\n",
              "      <th>seaWaterTemp</th>\n",
              "    </tr>\n",
              "  </thead>\n",
              "  <tbody>\n",
              "    <tr>\n",
              "      <th>0</th>\n",
              "      <td>17.819268</td>\n",
              "      <td>9.523762</td>\n",
              "      <td>3.033185</td>\n",
              "      <td>28.739523</td>\n",
              "      <td>150.915178</td>\n",
              "      <td>0.221266</td>\n",
              "      <td>164.832166</td>\n",
              "      <td>4.459258</td>\n",
              "      <td>4.609775</td>\n",
              "      <td>38.30329</td>\n",
              "      <td>34.395791</td>\n",
              "    </tr>\n",
              "  </tbody>\n",
              "</table>\n",
              "</div>\n",
              "    <div class=\"colab-df-buttons\">\n",
              "\n",
              "  <div class=\"colab-df-container\">\n",
              "    <button class=\"colab-df-convert\" onclick=\"convertToInteractive('df-f4ca757c-2e65-4988-b533-f2b0b90da52d')\"\n",
              "            title=\"Convert this dataframe to an interactive table.\"\n",
              "            style=\"display:none;\">\n",
              "\n",
              "  <svg xmlns=\"http://www.w3.org/2000/svg\" height=\"24px\" viewBox=\"0 -960 960 960\">\n",
              "    <path d=\"M120-120v-720h720v720H120Zm60-500h600v-160H180v160Zm220 220h160v-160H400v160Zm0 220h160v-160H400v160ZM180-400h160v-160H180v160Zm440 0h160v-160H620v160ZM180-180h160v-160H180v160Zm440 0h160v-160H620v160Z\"/>\n",
              "  </svg>\n",
              "    </button>\n",
              "\n",
              "  <style>\n",
              "    .colab-df-container {\n",
              "      display:flex;\n",
              "      gap: 12px;\n",
              "    }\n",
              "\n",
              "    .colab-df-convert {\n",
              "      background-color: #E8F0FE;\n",
              "      border: none;\n",
              "      border-radius: 50%;\n",
              "      cursor: pointer;\n",
              "      display: none;\n",
              "      fill: #1967D2;\n",
              "      height: 32px;\n",
              "      padding: 0 0 0 0;\n",
              "      width: 32px;\n",
              "    }\n",
              "\n",
              "    .colab-df-convert:hover {\n",
              "      background-color: #E2EBFA;\n",
              "      box-shadow: 0px 1px 2px rgba(60, 64, 67, 0.3), 0px 1px 3px 1px rgba(60, 64, 67, 0.15);\n",
              "      fill: #174EA6;\n",
              "    }\n",
              "\n",
              "    .colab-df-buttons div {\n",
              "      margin-bottom: 4px;\n",
              "    }\n",
              "\n",
              "    [theme=dark] .colab-df-convert {\n",
              "      background-color: #3B4455;\n",
              "      fill: #D2E3FC;\n",
              "    }\n",
              "\n",
              "    [theme=dark] .colab-df-convert:hover {\n",
              "      background-color: #434B5C;\n",
              "      box-shadow: 0px 1px 3px 1px rgba(0, 0, 0, 0.15);\n",
              "      filter: drop-shadow(0px 1px 2px rgba(0, 0, 0, 0.3));\n",
              "      fill: #FFFFFF;\n",
              "    }\n",
              "  </style>\n",
              "\n",
              "    <script>\n",
              "      const buttonEl =\n",
              "        document.querySelector('#df-f4ca757c-2e65-4988-b533-f2b0b90da52d button.colab-df-convert');\n",
              "      buttonEl.style.display =\n",
              "        google.colab.kernel.accessAllowed ? 'block' : 'none';\n",
              "\n",
              "      async function convertToInteractive(key) {\n",
              "        const element = document.querySelector('#df-f4ca757c-2e65-4988-b533-f2b0b90da52d');\n",
              "        const dataTable =\n",
              "          await google.colab.kernel.invokeFunction('convertToInteractive',\n",
              "                                                    [key], {});\n",
              "        if (!dataTable) return;\n",
              "\n",
              "        const docLinkHtml = 'Like what you see? Visit the ' +\n",
              "          '<a target=\"_blank\" href=https://colab.research.google.com/notebooks/data_table.ipynb>data table notebook</a>'\n",
              "          + ' to learn more about interactive tables.';\n",
              "        element.innerHTML = '';\n",
              "        dataTable['output_type'] = 'display_data';\n",
              "        await google.colab.output.renderOutput(dataTable, element);\n",
              "        const docLink = document.createElement('div');\n",
              "        docLink.innerHTML = docLinkHtml;\n",
              "        element.appendChild(docLink);\n",
              "      }\n",
              "    </script>\n",
              "  </div>\n",
              "\n",
              "\n",
              "  <div id=\"id_bcd837f5-30ec-46cb-8c56-a2e67d2de239\">\n",
              "    <style>\n",
              "      .colab-df-generate {\n",
              "        background-color: #E8F0FE;\n",
              "        border: none;\n",
              "        border-radius: 50%;\n",
              "        cursor: pointer;\n",
              "        display: none;\n",
              "        fill: #1967D2;\n",
              "        height: 32px;\n",
              "        padding: 0 0 0 0;\n",
              "        width: 32px;\n",
              "      }\n",
              "\n",
              "      .colab-df-generate:hover {\n",
              "        background-color: #E2EBFA;\n",
              "        box-shadow: 0px 1px 2px rgba(60, 64, 67, 0.3), 0px 1px 3px 1px rgba(60, 64, 67, 0.15);\n",
              "        fill: #174EA6;\n",
              "      }\n",
              "\n",
              "      [theme=dark] .colab-df-generate {\n",
              "        background-color: #3B4455;\n",
              "        fill: #D2E3FC;\n",
              "      }\n",
              "\n",
              "      [theme=dark] .colab-df-generate:hover {\n",
              "        background-color: #434B5C;\n",
              "        box-shadow: 0px 1px 3px 1px rgba(0, 0, 0, 0.15);\n",
              "        filter: drop-shadow(0px 1px 2px rgba(0, 0, 0, 0.3));\n",
              "        fill: #FFFFFF;\n",
              "      }\n",
              "    </style>\n",
              "    <button class=\"colab-df-generate\" onclick=\"generateWithVariable('x_expr')\"\n",
              "            title=\"Generate code using this dataframe.\"\n",
              "            style=\"display:none;\">\n",
              "\n",
              "  <svg xmlns=\"http://www.w3.org/2000/svg\" height=\"24px\"viewBox=\"0 0 24 24\"\n",
              "       width=\"24px\">\n",
              "    <path d=\"M7,19H8.4L18.45,9,17,7.55,7,17.6ZM5,21V16.75L18.45,3.32a2,2,0,0,1,2.83,0l1.4,1.43a1.91,1.91,0,0,1,.58,1.4,1.91,1.91,0,0,1-.58,1.4L9.25,21ZM18.45,9,17,7.55Zm-12,3A5.31,5.31,0,0,0,4.9,8.1,5.31,5.31,0,0,0,1,6.5,5.31,5.31,0,0,0,4.9,4.9,5.31,5.31,0,0,0,6.5,1,5.31,5.31,0,0,0,8.1,4.9,5.31,5.31,0,0,0,12,6.5,5.46,5.46,0,0,0,6.5,12Z\"/>\n",
              "  </svg>\n",
              "    </button>\n",
              "    <script>\n",
              "      (() => {\n",
              "      const buttonEl =\n",
              "        document.querySelector('#id_bcd837f5-30ec-46cb-8c56-a2e67d2de239 button.colab-df-generate');\n",
              "      buttonEl.style.display =\n",
              "        google.colab.kernel.accessAllowed ? 'block' : 'none';\n",
              "\n",
              "      buttonEl.onclick = () => {\n",
              "        google.colab.notebook.generateWithVariable('x_expr');\n",
              "      }\n",
              "      })();\n",
              "    </script>\n",
              "  </div>\n",
              "\n",
              "    </div>\n",
              "  </div>\n"
            ]
          },
          "metadata": {},
          "execution_count": 54
        }
      ]
    },
    {
      "cell_type": "code",
      "source": [
        "import random\n",
        "# Sailing speed (knots); Min value = 12; Maximum value = 26;\n",
        "sailingSpeed = random.uniform(12, 26)\n",
        "# Draft (m); Min value = 7; Maximum value = 14;\n",
        "draft = random.uniform(7, 14)\n",
        "# Trim (m); Min value = -2.0; Maximum value = 5;\n",
        "trim = random.uniform(-2.0, 5)\n",
        "# Wind speed (knots); Min value = 0 ; Maximum value = 40;\n",
        "windSpeed = random.uniform(0, 40)\n",
        "# Wind direction (Rel.) (degree); Min value = 0; Maximum value = 180;\n",
        "windDirection = random.uniform(0, 180)\n",
        "# Sea current speed (knots); Min value = 0; Maximum value = 3.5;\n",
        "currentSpeed = random.uniform(0, 3.5)\n",
        "# Sea current direction (Rel.) (degree); Min value = 0; Maximum value = 180;\n",
        "currentDirection = random.uniform(0, 180)\n",
        "# Combined wave height (m); Min value = 0; Maximum value = 8;\n",
        "combinedWaveHeight = random.uniform(0, 8)\n",
        "# Combined wave direction (Rel.) (degree); Min value = 0; Maximum value = 180;\n",
        "combinedWaveDirection = random.uniform(0, 180)\n",
        "# Combined wave period; Min value = 0; Maximum value = 15\n",
        "combinedWavePeriod = random.uniform(0, 15)\n",
        "# Sea water temperature (degree); Min value = 0; Maximum value = 35;\n",
        "seaWaterTemp = random.uniform(0, 35)\n",
        "\n",
        "# x_expr = pd.DataFrame([sailingSpeed, draft, trim, windSpeed, windDirection, currentSpeed, currentDirection,\n",
        "#                        combinedWaveHeight, combinedWavePeriod, combinedWaveDirection, seaWaterTemp],\n",
        "#                       columns = ['sailingSpeed', 'draft', 'trim', 'windSpeed', 'windDirection', 'currentSpeed',\n",
        "#                                  'currentDirection', 'combinedWaveHeight', 'combinedWavePeriod',\n",
        "#                                  'combinedWaveDirection', 'seaWaterTemp'])"
      ],
      "metadata": {
        "id": "kcIA46H9WY67"
      },
      "execution_count": 55,
      "outputs": []
    },
    {
      "cell_type": "code",
      "source": [
        "x_expr_train = x_expr.values.reshape(1,-1)\n",
        "print(x_expr.shape)\n",
        "\n",
        "# load the trained machine learning model\n",
        "model = model_\n",
        "\n",
        "# Predict the y (fuel consumption rate, MT/day) values of the experimental data \"x_expr\"\n",
        "y_pre = model.predict(x_expr_train)\n",
        "\n",
        "print(\"The prediction of ship fuel consumption rate of machine learning model is (metric ton/day):\", y_pre* 24 / 1000)"
      ],
      "metadata": {
        "colab": {
          "base_uri": "https://localhost:8080/"
        },
        "id": "5xfitESBX6Wy",
        "outputId": "a4569a2f-c1f9-4269-bd9c-42bffd9ee091"
      },
      "execution_count": 56,
      "outputs": [
        {
          "output_type": "stream",
          "name": "stdout",
          "text": [
            "(1, 11)\n",
            "The prediction of ship fuel consumption rate of machine learning model is (metric ton/day): [96.61908]\n"
          ]
        }
      ]
    },
    {
      "cell_type": "code",
      "source": [
        "explainer = shap.Explainer(model)\n",
        "shap.explainers.Tree(model, data=x_expr, model_output='raw')\n"
      ],
      "metadata": {
        "colab": {
          "base_uri": "https://localhost:8080/"
        },
        "id": "jmtxts_zX6fQ",
        "outputId": "fc4e7f10-4e22-4ee2-b9ba-f48c93a2d305"
      },
      "execution_count": 57,
      "outputs": [
        {
          "output_type": "stream",
          "name": "stderr",
          "text": [
            "[18:43:53] WARNING: /workspace/src/c_api/c_api.cc:1240: Saving into deprecated binary model format, please consider using `json` or `ubj`. Model format will default to JSON in XGBoost 2.2 if not specified.\n",
            "[18:43:58] WARNING: /workspace/src/c_api/c_api.cc:1240: Saving into deprecated binary model format, please consider using `json` or `ubj`. Model format will default to JSON in XGBoost 2.2 if not specified.\n",
            "[18:44:01] WARNING: /workspace/src/c_api/c_api.cc:1240: Saving into deprecated binary model format, please consider using `json` or `ubj`. Model format will default to JSON in XGBoost 2.2 if not specified.\n"
          ]
        },
        {
          "output_type": "execute_result",
          "data": {
            "text/plain": [
              "<shap.explainers._tree.TreeExplainer at 0x7abe79f7d390>"
            ]
          },
          "metadata": {},
          "execution_count": 57
        }
      ]
    },
    {
      "cell_type": "code",
      "source": [
        "# Calculate SHAP values on the test set\n",
        "shap_values = explainer.shap_values(x_expr_train)\n",
        "\n",
        "# Summary plot to visualize feature importance\n",
        "# shap.summary_plot(shap_values, x_expr_train, feature_names=x_expr.columns, show=False)\n",
        "\n",
        "# Find the most contributing feature\n",
        "most_contributing_feature_index = np.argmax(np.abs(shap_values))\n",
        "most_contributing_feature_name = x_expr.columns[most_contributing_feature_index]"
      ],
      "metadata": {
        "id": "NAAbZCCtZG_A"
      },
      "execution_count": 58,
      "outputs": []
    },
    {
      "cell_type": "code",
      "source": [
        "predi = \"The prediction of ship fuel consumption rate of machine learning model is (metric ton/day):\" + str(y_pre* 24 / 1000)\n",
        "most_contributing_feature_name = str(most_contributing_feature_name)\n",
        "# print(\"The prediction of ship fuel consumption rate of machine learning model is (metric ton/day):\", y_pre* 24 / 1000)\n",
        "# print(most_contributing_feature_name)\n",
        "\n",
        "x = predi + \"\\n\" + most_contributing_feature_name\n",
        "\n",
        "print(x)"
      ],
      "metadata": {
        "colab": {
          "base_uri": "https://localhost:8080/"
        },
        "id": "N4ir7HnGZLa3",
        "outputId": "97397773-4c4d-49fc-9fdb-683282ae6603"
      },
      "execution_count": 62,
      "outputs": [
        {
          "output_type": "stream",
          "name": "stdout",
          "text": [
            "The prediction of ship fuel consumption rate of machine learning model is (metric ton/day):[96.61908]\n",
            "sailingSpeed\n"
          ]
        }
      ]
    }
  ]
}