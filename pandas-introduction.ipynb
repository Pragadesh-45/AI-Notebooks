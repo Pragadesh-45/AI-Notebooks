{
 "cells": [
  {
   "cell_type": "code",
   "execution_count": 1,
   "id": "416b4a2b",
   "metadata": {
    "execution": {
     "iopub.execute_input": "2023-11-27T11:16:48.575667Z",
     "iopub.status.busy": "2023-11-27T11:16:48.574284Z",
     "iopub.status.idle": "2023-11-27T11:16:48.584599Z",
     "shell.execute_reply": "2023-11-27T11:16:48.585196Z",
     "shell.execute_reply.started": "2023-11-27T11:15:13.874917Z"
    },
    "papermill": {
     "duration": 0.058913,
     "end_time": "2023-11-27T11:16:48.585562",
     "exception": false,
     "start_time": "2023-11-27T11:16:48.526649",
     "status": "completed"
    },
    "tags": []
   },
   "outputs": [],
   "source": [
    "import pandas as pd\n",
    "import numpy as np"
   ]
  },
  {
   "cell_type": "code",
   "execution_count": 2,
   "id": "93e86998",
   "metadata": {
    "execution": {
     "iopub.execute_input": "2023-11-27T11:16:48.676456Z",
     "iopub.status.busy": "2023-11-27T11:16:48.675701Z",
     "iopub.status.idle": "2023-11-27T11:16:48.678689Z",
     "shell.execute_reply": "2023-11-27T11:16:48.679326Z",
     "shell.execute_reply.started": "2023-11-27T11:15:13.906380Z"
    },
    "papermill": {
     "duration": 0.052664,
     "end_time": "2023-11-27T11:16:48.679538",
     "exception": false,
     "start_time": "2023-11-27T11:16:48.626874",
     "status": "completed"
    },
    "tags": []
   },
   "outputs": [],
   "source": [
    "mydata = ['Boat', 'Car', 'Bike', 'Truck']\n",
    "myseries1 = pd.Series(mydata)"
   ]
  },
  {
   "cell_type": "code",
   "execution_count": 3,
   "id": "e1039b48",
   "metadata": {
    "execution": {
     "iopub.execute_input": "2023-11-27T11:16:48.761861Z",
     "iopub.status.busy": "2023-11-27T11:16:48.761065Z",
     "iopub.status.idle": "2023-11-27T11:16:48.772328Z",
     "shell.execute_reply": "2023-11-27T11:16:48.771742Z",
     "shell.execute_reply.started": "2023-11-27T11:15:13.916072Z"
    },
    "papermill": {
     "duration": 0.053648,
     "end_time": "2023-11-27T11:16:48.772503",
     "exception": false,
     "start_time": "2023-11-27T11:16:48.718855",
     "status": "completed"
    },
    "tags": []
   },
   "outputs": [
    {
     "data": {
      "text/plain": [
       "0     Boat\n",
       "1      Car\n",
       "2     Bike\n",
       "3    Truck\n",
       "dtype: object"
      ]
     },
     "execution_count": 3,
     "metadata": {},
     "output_type": "execute_result"
    }
   ],
   "source": [
    "myseries1"
   ]
  },
  {
   "cell_type": "code",
   "execution_count": 4,
   "id": "7e10201b",
   "metadata": {
    "execution": {
     "iopub.execute_input": "2023-11-27T11:16:48.857994Z",
     "iopub.status.busy": "2023-11-27T11:16:48.857209Z",
     "iopub.status.idle": "2023-11-27T11:16:48.864274Z",
     "shell.execute_reply": "2023-11-27T11:16:48.863688Z",
     "shell.execute_reply.started": "2023-11-27T11:15:13.933534Z"
    },
    "papermill": {
     "duration": 0.051601,
     "end_time": "2023-11-27T11:16:48.864462",
     "exception": false,
     "start_time": "2023-11-27T11:16:48.812861",
     "status": "completed"
    },
    "tags": []
   },
   "outputs": [],
   "source": [
    "mydata = [1,2,3,4]\n",
    "myseries2 = pd.Series(mydata)"
   ]
  },
  {
   "cell_type": "code",
   "execution_count": 5,
   "id": "a063ce01",
   "metadata": {
    "execution": {
     "iopub.execute_input": "2023-11-27T11:16:48.952020Z",
     "iopub.status.busy": "2023-11-27T11:16:48.951224Z",
     "iopub.status.idle": "2023-11-27T11:16:48.956326Z",
     "shell.execute_reply": "2023-11-27T11:16:48.955668Z",
     "shell.execute_reply.started": "2023-11-27T11:15:13.941348Z"
    },
    "papermill": {
     "duration": 0.052207,
     "end_time": "2023-11-27T11:16:48.956528",
     "exception": false,
     "start_time": "2023-11-27T11:16:48.904321",
     "status": "completed"
    },
    "tags": []
   },
   "outputs": [
    {
     "name": "stdout",
     "output_type": "stream",
     "text": [
      "0    1\n",
      "1    2\n",
      "2    3\n",
      "3    4\n",
      "dtype: int64\n"
     ]
    }
   ],
   "source": [
    "print(myseries2)"
   ]
  },
  {
   "cell_type": "markdown",
   "id": "6e07493c",
   "metadata": {
    "papermill": {
     "duration": 0.040185,
     "end_time": "2023-11-27T11:16:49.039092",
     "exception": false,
     "start_time": "2023-11-27T11:16:48.998907",
     "status": "completed"
    },
    "tags": []
   },
   "source": [
    "## DataFrame"
   ]
  },
  {
   "cell_type": "code",
   "execution_count": 6,
   "id": "c018a4b3",
   "metadata": {
    "execution": {
     "iopub.execute_input": "2023-11-27T11:16:49.130132Z",
     "iopub.status.busy": "2023-11-27T11:16:49.129164Z",
     "iopub.status.idle": "2023-11-27T11:16:49.144995Z",
     "shell.execute_reply": "2023-11-27T11:16:49.144244Z",
     "shell.execute_reply.started": "2023-11-27T11:15:13.953102Z"
    },
    "papermill": {
     "duration": 0.06622,
     "end_time": "2023-11-27T11:16:49.145159",
     "exception": false,
     "start_time": "2023-11-27T11:16:49.078939",
     "status": "completed"
    },
    "tags": []
   },
   "outputs": [
    {
     "data": {
      "text/html": [
       "<div>\n",
       "<style scoped>\n",
       "    .dataframe tbody tr th:only-of-type {\n",
       "        vertical-align: middle;\n",
       "    }\n",
       "\n",
       "    .dataframe tbody tr th {\n",
       "        vertical-align: top;\n",
       "    }\n",
       "\n",
       "    .dataframe thead th {\n",
       "        text-align: right;\n",
       "    }\n",
       "</style>\n",
       "<table border=\"1\" class=\"dataframe\">\n",
       "  <thead>\n",
       "    <tr style=\"text-align: right;\">\n",
       "      <th></th>\n",
       "      <th>thing</th>\n",
       "      <th>count</th>\n",
       "    </tr>\n",
       "  </thead>\n",
       "  <tbody>\n",
       "    <tr>\n",
       "      <th>0</th>\n",
       "      <td>Boat</td>\n",
       "      <td>15</td>\n",
       "    </tr>\n",
       "    <tr>\n",
       "      <th>1</th>\n",
       "      <td>Car</td>\n",
       "      <td>83</td>\n",
       "    </tr>\n",
       "    <tr>\n",
       "      <th>2</th>\n",
       "      <td>Bike</td>\n",
       "      <td>44</td>\n",
       "    </tr>\n",
       "    <tr>\n",
       "      <th>3</th>\n",
       "      <td>Truck</td>\n",
       "      <td>54</td>\n",
       "    </tr>\n",
       "  </tbody>\n",
       "</table>\n",
       "</div>"
      ],
      "text/plain": [
       "   thing  count\n",
       "0   Boat     15\n",
       "1    Car     83\n",
       "2   Bike     44\n",
       "3  Truck     54"
      ]
     },
     "execution_count": 6,
     "metadata": {},
     "output_type": "execute_result"
    }
   ],
   "source": [
    "mydfdata = [('Boat', 15), ('Car', 83), ('Bike', 44), ('Truck', 54)]\n",
    "\n",
    "mydf = pd.DataFrame(mydfdata, columns=['thing', 'count'])\n",
    "\n",
    "mydf"
   ]
  },
  {
   "cell_type": "code",
   "execution_count": 7,
   "id": "2a56e527",
   "metadata": {
    "execution": {
     "iopub.execute_input": "2023-11-27T11:16:49.237903Z",
     "iopub.status.busy": "2023-11-27T11:16:49.236798Z",
     "iopub.status.idle": "2023-11-27T11:16:49.243579Z",
     "shell.execute_reply": "2023-11-27T11:16:49.244338Z",
     "shell.execute_reply.started": "2023-11-27T11:15:13.980382Z"
    },
    "papermill": {
     "duration": 0.058079,
     "end_time": "2023-11-27T11:16:49.244555",
     "exception": false,
     "start_time": "2023-11-27T11:16:49.186476",
     "status": "completed"
    },
    "tags": []
   },
   "outputs": [
    {
     "data": {
      "text/plain": [
       "0     Boat\n",
       "1      Car\n",
       "2     Bike\n",
       "3    Truck\n",
       "Name: thing, dtype: object"
      ]
     },
     "execution_count": 7,
     "metadata": {},
     "output_type": "execute_result"
    }
   ],
   "source": [
    "mydf['thing']"
   ]
  },
  {
   "cell_type": "code",
   "execution_count": 8,
   "id": "19fa3c4a",
   "metadata": {
    "execution": {
     "iopub.execute_input": "2023-11-27T11:16:49.336859Z",
     "iopub.status.busy": "2023-11-27T11:16:49.335810Z",
     "iopub.status.idle": "2023-11-27T11:16:49.340631Z",
     "shell.execute_reply": "2023-11-27T11:16:49.339855Z",
     "shell.execute_reply.started": "2023-11-27T11:15:13.994504Z"
    },
    "papermill": {
     "duration": 0.054914,
     "end_time": "2023-11-27T11:16:49.340799",
     "exception": false,
     "start_time": "2023-11-27T11:16:49.285885",
     "status": "completed"
    },
    "tags": []
   },
   "outputs": [
    {
     "data": {
      "text/plain": [
       "thing    object\n",
       "count     int64\n",
       "dtype: object"
      ]
     },
     "execution_count": 8,
     "metadata": {},
     "output_type": "execute_result"
    }
   ],
   "source": [
    "mydf.dtypes"
   ]
  },
  {
   "cell_type": "markdown",
   "id": "7a44d916",
   "metadata": {
    "papermill": {
     "duration": 0.043244,
     "end_time": "2023-11-27T11:16:49.425931",
     "exception": false,
     "start_time": "2023-11-27T11:16:49.382687",
     "status": "completed"
    },
    "tags": []
   },
   "source": [
    "## Reading in Data"
   ]
  },
  {
   "cell_type": "code",
   "execution_count": 9,
   "id": "bfd42d16",
   "metadata": {
    "execution": {
     "iopub.execute_input": "2023-11-27T11:16:49.515899Z",
     "iopub.status.busy": "2023-11-27T11:16:49.515097Z",
     "iopub.status.idle": "2023-11-27T11:16:49.536036Z",
     "shell.execute_reply": "2023-11-27T11:16:49.536647Z",
     "shell.execute_reply.started": "2023-11-27T11:15:14.006298Z"
    },
    "papermill": {
     "duration": 0.068781,
     "end_time": "2023-11-27T11:16:49.536860",
     "exception": false,
     "start_time": "2023-11-27T11:16:49.468079",
     "status": "completed"
    },
    "tags": []
   },
   "outputs": [],
   "source": [
    "dataset = '/kaggle/input/mr-beast-youtube-video-statistics/MrBeast_youtube_stats.csv'\n",
    "df = pd.read_csv(dataset)"
   ]
  },
  {
   "cell_type": "markdown",
   "id": "81772d81",
   "metadata": {
    "papermill": {
     "duration": 0.040463,
     "end_time": "2023-11-27T11:16:49.618381",
     "exception": false,
     "start_time": "2023-11-27T11:16:49.577918",
     "status": "completed"
    },
    "tags": []
   },
   "source": [
    "## Inspect the data"
   ]
  },
  {
   "cell_type": "code",
   "execution_count": 10,
   "id": "387d9eda",
   "metadata": {
    "execution": {
     "iopub.execute_input": "2023-11-27T11:16:49.712081Z",
     "iopub.status.busy": "2023-11-27T11:16:49.711338Z",
     "iopub.status.idle": "2023-11-27T11:16:49.739508Z",
     "shell.execute_reply": "2023-11-27T11:16:49.740344Z",
     "shell.execute_reply.started": "2023-11-27T11:15:14.033927Z"
    },
    "papermill": {
     "duration": 0.081403,
     "end_time": "2023-11-27T11:16:49.740615",
     "exception": false,
     "start_time": "2023-11-27T11:16:49.659212",
     "status": "completed"
    },
    "tags": []
   },
   "outputs": [
    {
     "data": {
      "text/html": [
       "<div>\n",
       "<style scoped>\n",
       "    .dataframe tbody tr th:only-of-type {\n",
       "        vertical-align: middle;\n",
       "    }\n",
       "\n",
       "    .dataframe tbody tr th {\n",
       "        vertical-align: top;\n",
       "    }\n",
       "\n",
       "    .dataframe thead th {\n",
       "        text-align: right;\n",
       "    }\n",
       "</style>\n",
       "<table border=\"1\" class=\"dataframe\">\n",
       "  <thead>\n",
       "    <tr style=\"text-align: right;\">\n",
       "      <th></th>\n",
       "      <th>id</th>\n",
       "      <th>title</th>\n",
       "      <th>description</th>\n",
       "      <th>publishTime</th>\n",
       "      <th>kind_stats</th>\n",
       "      <th>duration_seconds</th>\n",
       "      <th>viewCount</th>\n",
       "      <th>likeCount</th>\n",
       "      <th>commentCount</th>\n",
       "      <th>thumbnails.default.url</th>\n",
       "      <th>...</th>\n",
       "      <th>thumbnails.high.width</th>\n",
       "      <th>thumbnails.high.height</th>\n",
       "      <th>contentDetails.duration</th>\n",
       "      <th>contentDetails.dimension</th>\n",
       "      <th>topicDetails.topicCategories</th>\n",
       "      <th>snippet.defaultLanguage</th>\n",
       "      <th>localizations.en.title</th>\n",
       "      <th>localizations.en.description</th>\n",
       "      <th>snippet.tags</th>\n",
       "      <th>contentDetails.contentRating.ytRating</th>\n",
       "    </tr>\n",
       "  </thead>\n",
       "  <tbody>\n",
       "    <tr>\n",
       "      <th>0</th>\n",
       "      <td>TQHEJj68Jew</td>\n",
       "      <td>I Got Hunted By A Real Bounty Hunter</td>\n",
       "      <td>Sign up for Current w/ my Creator Code \"BEAST\"...</td>\n",
       "      <td>2021-04-24 20:00:00+00:00</td>\n",
       "      <td>youtube#video</td>\n",
       "      <td>861</td>\n",
       "      <td>84717282.0</td>\n",
       "      <td>2876493.0</td>\n",
       "      <td>128922.0</td>\n",
       "      <td>https://i.ytimg.com/vi/TQHEJj68Jew/default.jpg</td>\n",
       "      <td>...</td>\n",
       "      <td>480.0</td>\n",
       "      <td>360.0</td>\n",
       "      <td>PT14M21S</td>\n",
       "      <td>2d</td>\n",
       "      <td>['https://en.wikipedia.org/wiki/Lifestyle_(soc...</td>\n",
       "      <td>NaN</td>\n",
       "      <td>NaN</td>\n",
       "      <td>NaN</td>\n",
       "      <td>NaN</td>\n",
       "      <td>NaN</td>\n",
       "    </tr>\n",
       "    <tr>\n",
       "      <th>1</th>\n",
       "      <td>00NgUctWoLQ</td>\n",
       "      <td>Extreme $1,000,000 Hide And Seek</td>\n",
       "      <td>I didn't expect that to happen at the end I wa...</td>\n",
       "      <td>2021-12-18 21:00:00+00:00</td>\n",
       "      <td>youtube#video</td>\n",
       "      <td>729</td>\n",
       "      <td>32090178.0</td>\n",
       "      <td>2125183.0</td>\n",
       "      <td>73593.0</td>\n",
       "      <td>https://i.ytimg.com/vi/00NgUctWoLQ/default.jpg</td>\n",
       "      <td>...</td>\n",
       "      <td>480.0</td>\n",
       "      <td>360.0</td>\n",
       "      <td>PT12M9S</td>\n",
       "      <td>2d</td>\n",
       "      <td>['https://en.wikipedia.org/wiki/Lifestyle_(soc...</td>\n",
       "      <td>en</td>\n",
       "      <td>Extreme $1,000,000 Hide And Seek</td>\n",
       "      <td>I didn't expect that to happen at the end I wa...</td>\n",
       "      <td>NaN</td>\n",
       "      <td>NaN</td>\n",
       "    </tr>\n",
       "    <tr>\n",
       "      <th>2</th>\n",
       "      <td>NaN</td>\n",
       "      <td>MrBeast</td>\n",
       "      <td>Accomplishments - Raised $20000000 To Plant 20...</td>\n",
       "      <td>2012-02-20 00:43:50+00:00</td>\n",
       "      <td>NaN</td>\n",
       "      <td>0</td>\n",
       "      <td>NaN</td>\n",
       "      <td>NaN</td>\n",
       "      <td>NaN</td>\n",
       "      <td>https://yt3.ggpht.com/ytc/AKedOLTctGKJ32CdDLiS...</td>\n",
       "      <td>...</td>\n",
       "      <td>NaN</td>\n",
       "      <td>NaN</td>\n",
       "      <td>NaN</td>\n",
       "      <td>NaN</td>\n",
       "      <td>NaN</td>\n",
       "      <td>NaN</td>\n",
       "      <td>NaN</td>\n",
       "      <td>NaN</td>\n",
       "      <td>NaN</td>\n",
       "      <td>NaN</td>\n",
       "    </tr>\n",
       "    <tr>\n",
       "      <th>3</th>\n",
       "      <td>ayXxwJJId_c</td>\n",
       "      <td>I Bought The World&amp;#39;s Largest Mystery Box! ...</td>\n",
       "      <td>I cant believe I spent over $500000 on mystery...</td>\n",
       "      <td>2021-04-03 20:00:01+00:00</td>\n",
       "      <td>youtube#video</td>\n",
       "      <td>709</td>\n",
       "      <td>101745632.0</td>\n",
       "      <td>3110824.0</td>\n",
       "      <td>162796.0</td>\n",
       "      <td>https://i.ytimg.com/vi/ayXxwJJId_c/default.jpg</td>\n",
       "      <td>...</td>\n",
       "      <td>480.0</td>\n",
       "      <td>360.0</td>\n",
       "      <td>PT11M49S</td>\n",
       "      <td>2d</td>\n",
       "      <td>['https://en.wikipedia.org/wiki/Lifestyle_(soc...</td>\n",
       "      <td>NaN</td>\n",
       "      <td>NaN</td>\n",
       "      <td>NaN</td>\n",
       "      <td>NaN</td>\n",
       "      <td>NaN</td>\n",
       "    </tr>\n",
       "    <tr>\n",
       "      <th>4</th>\n",
       "      <td>cExLQ1o2pDw</td>\n",
       "      <td>First To Rob Bank Wins $100,000</td>\n",
       "      <td>I didnt think he would actually rob the bank.....</td>\n",
       "      <td>2021-09-26 20:00:06+00:00</td>\n",
       "      <td>youtube#video</td>\n",
       "      <td>482</td>\n",
       "      <td>50008942.0</td>\n",
       "      <td>2359606.0</td>\n",
       "      <td>120621.0</td>\n",
       "      <td>https://i.ytimg.com/vi/cExLQ1o2pDw/default.jpg</td>\n",
       "      <td>...</td>\n",
       "      <td>480.0</td>\n",
       "      <td>360.0</td>\n",
       "      <td>PT8M2S</td>\n",
       "      <td>2d</td>\n",
       "      <td>['https://en.wikipedia.org/wiki/Lifestyle_(soc...</td>\n",
       "      <td>NaN</td>\n",
       "      <td>NaN</td>\n",
       "      <td>NaN</td>\n",
       "      <td>NaN</td>\n",
       "      <td>NaN</td>\n",
       "    </tr>\n",
       "  </tbody>\n",
       "</table>\n",
       "<p>5 rows × 26 columns</p>\n",
       "</div>"
      ],
      "text/plain": [
       "            id                                              title  \\\n",
       "0  TQHEJj68Jew               I Got Hunted By A Real Bounty Hunter   \n",
       "1  00NgUctWoLQ                   Extreme $1,000,000 Hide And Seek   \n",
       "2          NaN                                            MrBeast   \n",
       "3  ayXxwJJId_c  I Bought The World&#39;s Largest Mystery Box! ...   \n",
       "4  cExLQ1o2pDw                    First To Rob Bank Wins $100,000   \n",
       "\n",
       "                                         description  \\\n",
       "0  Sign up for Current w/ my Creator Code \"BEAST\"...   \n",
       "1  I didn't expect that to happen at the end I wa...   \n",
       "2  Accomplishments - Raised $20000000 To Plant 20...   \n",
       "3  I cant believe I spent over $500000 on mystery...   \n",
       "4  I didnt think he would actually rob the bank.....   \n",
       "\n",
       "                 publishTime     kind_stats  duration_seconds    viewCount  \\\n",
       "0  2021-04-24 20:00:00+00:00  youtube#video               861   84717282.0   \n",
       "1  2021-12-18 21:00:00+00:00  youtube#video               729   32090178.0   \n",
       "2  2012-02-20 00:43:50+00:00            NaN                 0          NaN   \n",
       "3  2021-04-03 20:00:01+00:00  youtube#video               709  101745632.0   \n",
       "4  2021-09-26 20:00:06+00:00  youtube#video               482   50008942.0   \n",
       "\n",
       "   likeCount  commentCount                             thumbnails.default.url  \\\n",
       "0  2876493.0      128922.0     https://i.ytimg.com/vi/TQHEJj68Jew/default.jpg   \n",
       "1  2125183.0       73593.0     https://i.ytimg.com/vi/00NgUctWoLQ/default.jpg   \n",
       "2        NaN           NaN  https://yt3.ggpht.com/ytc/AKedOLTctGKJ32CdDLiS...   \n",
       "3  3110824.0      162796.0     https://i.ytimg.com/vi/ayXxwJJId_c/default.jpg   \n",
       "4  2359606.0      120621.0     https://i.ytimg.com/vi/cExLQ1o2pDw/default.jpg   \n",
       "\n",
       "   ...  thumbnails.high.width  thumbnails.high.height contentDetails.duration  \\\n",
       "0  ...                  480.0                   360.0                PT14M21S   \n",
       "1  ...                  480.0                   360.0                 PT12M9S   \n",
       "2  ...                    NaN                     NaN                     NaN   \n",
       "3  ...                  480.0                   360.0                PT11M49S   \n",
       "4  ...                  480.0                   360.0                  PT8M2S   \n",
       "\n",
       "   contentDetails.dimension  \\\n",
       "0                        2d   \n",
       "1                        2d   \n",
       "2                       NaN   \n",
       "3                        2d   \n",
       "4                        2d   \n",
       "\n",
       "                        topicDetails.topicCategories snippet.defaultLanguage  \\\n",
       "0  ['https://en.wikipedia.org/wiki/Lifestyle_(soc...                     NaN   \n",
       "1  ['https://en.wikipedia.org/wiki/Lifestyle_(soc...                      en   \n",
       "2                                                NaN                     NaN   \n",
       "3  ['https://en.wikipedia.org/wiki/Lifestyle_(soc...                     NaN   \n",
       "4  ['https://en.wikipedia.org/wiki/Lifestyle_(soc...                     NaN   \n",
       "\n",
       "             localizations.en.title  \\\n",
       "0                               NaN   \n",
       "1  Extreme $1,000,000 Hide And Seek   \n",
       "2                               NaN   \n",
       "3                               NaN   \n",
       "4                               NaN   \n",
       "\n",
       "                        localizations.en.description snippet.tags  \\\n",
       "0                                                NaN          NaN   \n",
       "1  I didn't expect that to happen at the end I wa...          NaN   \n",
       "2                                                NaN          NaN   \n",
       "3                                                NaN          NaN   \n",
       "4                                                NaN          NaN   \n",
       "\n",
       "  contentDetails.contentRating.ytRating  \n",
       "0                                   NaN  \n",
       "1                                   NaN  \n",
       "2                                   NaN  \n",
       "3                                   NaN  \n",
       "4                                   NaN  \n",
       "\n",
       "[5 rows x 26 columns]"
      ]
     },
     "execution_count": 10,
     "metadata": {},
     "output_type": "execute_result"
    }
   ],
   "source": [
    "# Head\n",
    "df.head()"
   ]
  },
  {
   "cell_type": "code",
   "execution_count": 11,
   "id": "476624d3",
   "metadata": {
    "execution": {
     "iopub.execute_input": "2023-11-27T11:16:49.830628Z",
     "iopub.status.busy": "2023-11-27T11:16:49.829576Z",
     "iopub.status.idle": "2023-11-27T11:16:49.859355Z",
     "shell.execute_reply": "2023-11-27T11:16:49.859974Z",
     "shell.execute_reply.started": "2023-11-27T11:15:14.072833Z"
    },
    "papermill": {
     "duration": 0.077099,
     "end_time": "2023-11-27T11:16:49.860171",
     "exception": false,
     "start_time": "2023-11-27T11:16:49.783072",
     "status": "completed"
    },
    "tags": []
   },
   "outputs": [
    {
     "data": {
      "text/html": [
       "<div>\n",
       "<style scoped>\n",
       "    .dataframe tbody tr th:only-of-type {\n",
       "        vertical-align: middle;\n",
       "    }\n",
       "\n",
       "    .dataframe tbody tr th {\n",
       "        vertical-align: top;\n",
       "    }\n",
       "\n",
       "    .dataframe thead th {\n",
       "        text-align: right;\n",
       "    }\n",
       "</style>\n",
       "<table border=\"1\" class=\"dataframe\">\n",
       "  <thead>\n",
       "    <tr style=\"text-align: right;\">\n",
       "      <th></th>\n",
       "      <th>id</th>\n",
       "      <th>title</th>\n",
       "      <th>description</th>\n",
       "      <th>publishTime</th>\n",
       "      <th>kind_stats</th>\n",
       "      <th>duration_seconds</th>\n",
       "      <th>viewCount</th>\n",
       "      <th>likeCount</th>\n",
       "      <th>commentCount</th>\n",
       "      <th>thumbnails.default.url</th>\n",
       "      <th>...</th>\n",
       "      <th>thumbnails.high.width</th>\n",
       "      <th>thumbnails.high.height</th>\n",
       "      <th>contentDetails.duration</th>\n",
       "      <th>contentDetails.dimension</th>\n",
       "      <th>topicDetails.topicCategories</th>\n",
       "      <th>snippet.defaultLanguage</th>\n",
       "      <th>localizations.en.title</th>\n",
       "      <th>localizations.en.description</th>\n",
       "      <th>snippet.tags</th>\n",
       "      <th>contentDetails.contentRating.ytRating</th>\n",
       "    </tr>\n",
       "  </thead>\n",
       "  <tbody>\n",
       "    <tr>\n",
       "      <th>242</th>\n",
       "      <td>yeHjsYQ076A</td>\n",
       "      <td>Remember When COD Was Fun?</td>\n",
       "      <td>Yup, another very pointless video ▻ Subscribe?...</td>\n",
       "      <td>2015-04-26 21:26:36+00:00</td>\n",
       "      <td>youtube#video</td>\n",
       "      <td>216</td>\n",
       "      <td>16312.0</td>\n",
       "      <td>574.0</td>\n",
       "      <td>145.0</td>\n",
       "      <td>https://i.ytimg.com/vi/yeHjsYQ076A/default.jpg</td>\n",
       "      <td>...</td>\n",
       "      <td>480.0</td>\n",
       "      <td>360.0</td>\n",
       "      <td>PT3M36S</td>\n",
       "      <td>2d</td>\n",
       "      <td>['https://en.wikipedia.org/wiki/Action-adventu...</td>\n",
       "      <td>NaN</td>\n",
       "      <td>NaN</td>\n",
       "      <td>NaN</td>\n",
       "      <td>['How', 'much', 'money', 'does', 'make', 'blac...</td>\n",
       "      <td>NaN</td>\n",
       "    </tr>\n",
       "    <tr>\n",
       "      <th>243</th>\n",
       "      <td>X7doE4h6W64</td>\n",
       "      <td>Insane Gun Sync - 7 Hours To Make</td>\n",
       "      <td>Look at this - http://gyazo.com/8852509d2350db...</td>\n",
       "      <td>2015-06-21 12:22:34+00:00</td>\n",
       "      <td>youtube#video</td>\n",
       "      <td>134</td>\n",
       "      <td>15740.0</td>\n",
       "      <td>637.0</td>\n",
       "      <td>105.0</td>\n",
       "      <td>https://i.ytimg.com/vi/X7doE4h6W64/default.jpg</td>\n",
       "      <td>...</td>\n",
       "      <td>480.0</td>\n",
       "      <td>360.0</td>\n",
       "      <td>PT2M14S</td>\n",
       "      <td>2d</td>\n",
       "      <td>['https://en.wikipedia.org/wiki/Action-adventu...</td>\n",
       "      <td>NaN</td>\n",
       "      <td>NaN</td>\n",
       "      <td>NaN</td>\n",
       "      <td>['How', 'much', 'money', 'does', 'make', 'blac...</td>\n",
       "      <td>NaN</td>\n",
       "    </tr>\n",
       "    <tr>\n",
       "      <th>244</th>\n",
       "      <td>AIytwdufwW8</td>\n",
       "      <td>MY MESSAGE TO COD YOUTUBERS (Watch till end plz)</td>\n",
       "      <td>The beginning of the video is a little off top...</td>\n",
       "      <td>2015-05-29 20:07:48+00:00</td>\n",
       "      <td>youtube#video</td>\n",
       "      <td>292</td>\n",
       "      <td>18502.0</td>\n",
       "      <td>508.0</td>\n",
       "      <td>117.0</td>\n",
       "      <td>https://i.ytimg.com/vi/AIytwdufwW8/default.jpg</td>\n",
       "      <td>...</td>\n",
       "      <td>480.0</td>\n",
       "      <td>360.0</td>\n",
       "      <td>PT4M52S</td>\n",
       "      <td>2d</td>\n",
       "      <td>['https://en.wikipedia.org/wiki/Action-adventu...</td>\n",
       "      <td>NaN</td>\n",
       "      <td>NaN</td>\n",
       "      <td>NaN</td>\n",
       "      <td>['How', 'much', 'money', 'does', 'make', 'blac...</td>\n",
       "      <td>NaN</td>\n",
       "    </tr>\n",
       "    <tr>\n",
       "      <th>245</th>\n",
       "      <td>56OkH6ocYZU</td>\n",
       "      <td>L0114R - Biblical Creeper Post for Post @L0114R</td>\n",
       "      <td>His channel - https://www.youtube.com/user/the...</td>\n",
       "      <td>2015-05-15 16:48:54+00:00</td>\n",
       "      <td>youtube#video</td>\n",
       "      <td>109</td>\n",
       "      <td>16627.0</td>\n",
       "      <td>430.0</td>\n",
       "      <td>134.0</td>\n",
       "      <td>https://i.ytimg.com/vi/56OkH6ocYZU/default.jpg</td>\n",
       "      <td>...</td>\n",
       "      <td>480.0</td>\n",
       "      <td>360.0</td>\n",
       "      <td>PT1M49S</td>\n",
       "      <td>2d</td>\n",
       "      <td>['https://en.wikipedia.org/wiki/Action-adventu...</td>\n",
       "      <td>NaN</td>\n",
       "      <td>NaN</td>\n",
       "      <td>NaN</td>\n",
       "      <td>['How', 'much', 'money', 'does', 'make', 'blac...</td>\n",
       "      <td>NaN</td>\n",
       "    </tr>\n",
       "    <tr>\n",
       "      <th>246</th>\n",
       "      <td>zi7tZ-2PhLk</td>\n",
       "      <td>How Much Money Do You Make As An Uber Driver??...</td>\n",
       "      <td>In this video I talk about being an uber drive...</td>\n",
       "      <td>2015-05-31 18:31:25+00:00</td>\n",
       "      <td>youtube#video</td>\n",
       "      <td>304</td>\n",
       "      <td>18773.0</td>\n",
       "      <td>370.0</td>\n",
       "      <td>59.0</td>\n",
       "      <td>https://i.ytimg.com/vi/zi7tZ-2PhLk/default.jpg</td>\n",
       "      <td>...</td>\n",
       "      <td>480.0</td>\n",
       "      <td>360.0</td>\n",
       "      <td>PT5M4S</td>\n",
       "      <td>2d</td>\n",
       "      <td>['https://en.wikipedia.org/wiki/Action-adventu...</td>\n",
       "      <td>NaN</td>\n",
       "      <td>NaN</td>\n",
       "      <td>NaN</td>\n",
       "      <td>['How', 'much', 'money', 'does', 'make', 'blac...</td>\n",
       "      <td>NaN</td>\n",
       "    </tr>\n",
       "  </tbody>\n",
       "</table>\n",
       "<p>5 rows × 26 columns</p>\n",
       "</div>"
      ],
      "text/plain": [
       "              id                                              title  \\\n",
       "242  yeHjsYQ076A                         Remember When COD Was Fun?   \n",
       "243  X7doE4h6W64                  Insane Gun Sync - 7 Hours To Make   \n",
       "244  AIytwdufwW8   MY MESSAGE TO COD YOUTUBERS (Watch till end plz)   \n",
       "245  56OkH6ocYZU    L0114R - Biblical Creeper Post for Post @L0114R   \n",
       "246  zi7tZ-2PhLk  How Much Money Do You Make As An Uber Driver??...   \n",
       "\n",
       "                                           description  \\\n",
       "242  Yup, another very pointless video ▻ Subscribe?...   \n",
       "243  Look at this - http://gyazo.com/8852509d2350db...   \n",
       "244  The beginning of the video is a little off top...   \n",
       "245  His channel - https://www.youtube.com/user/the...   \n",
       "246  In this video I talk about being an uber drive...   \n",
       "\n",
       "                   publishTime     kind_stats  duration_seconds  viewCount  \\\n",
       "242  2015-04-26 21:26:36+00:00  youtube#video               216    16312.0   \n",
       "243  2015-06-21 12:22:34+00:00  youtube#video               134    15740.0   \n",
       "244  2015-05-29 20:07:48+00:00  youtube#video               292    18502.0   \n",
       "245  2015-05-15 16:48:54+00:00  youtube#video               109    16627.0   \n",
       "246  2015-05-31 18:31:25+00:00  youtube#video               304    18773.0   \n",
       "\n",
       "     likeCount  commentCount                          thumbnails.default.url  \\\n",
       "242      574.0         145.0  https://i.ytimg.com/vi/yeHjsYQ076A/default.jpg   \n",
       "243      637.0         105.0  https://i.ytimg.com/vi/X7doE4h6W64/default.jpg   \n",
       "244      508.0         117.0  https://i.ytimg.com/vi/AIytwdufwW8/default.jpg   \n",
       "245      430.0         134.0  https://i.ytimg.com/vi/56OkH6ocYZU/default.jpg   \n",
       "246      370.0          59.0  https://i.ytimg.com/vi/zi7tZ-2PhLk/default.jpg   \n",
       "\n",
       "     ...  thumbnails.high.width  thumbnails.high.height  \\\n",
       "242  ...                  480.0                   360.0   \n",
       "243  ...                  480.0                   360.0   \n",
       "244  ...                  480.0                   360.0   \n",
       "245  ...                  480.0                   360.0   \n",
       "246  ...                  480.0                   360.0   \n",
       "\n",
       "    contentDetails.duration  contentDetails.dimension  \\\n",
       "242                 PT3M36S                        2d   \n",
       "243                 PT2M14S                        2d   \n",
       "244                 PT4M52S                        2d   \n",
       "245                 PT1M49S                        2d   \n",
       "246                  PT5M4S                        2d   \n",
       "\n",
       "                          topicDetails.topicCategories  \\\n",
       "242  ['https://en.wikipedia.org/wiki/Action-adventu...   \n",
       "243  ['https://en.wikipedia.org/wiki/Action-adventu...   \n",
       "244  ['https://en.wikipedia.org/wiki/Action-adventu...   \n",
       "245  ['https://en.wikipedia.org/wiki/Action-adventu...   \n",
       "246  ['https://en.wikipedia.org/wiki/Action-adventu...   \n",
       "\n",
       "    snippet.defaultLanguage  localizations.en.title  \\\n",
       "242                     NaN                     NaN   \n",
       "243                     NaN                     NaN   \n",
       "244                     NaN                     NaN   \n",
       "245                     NaN                     NaN   \n",
       "246                     NaN                     NaN   \n",
       "\n",
       "     localizations.en.description  \\\n",
       "242                           NaN   \n",
       "243                           NaN   \n",
       "244                           NaN   \n",
       "245                           NaN   \n",
       "246                           NaN   \n",
       "\n",
       "                                          snippet.tags  \\\n",
       "242  ['How', 'much', 'money', 'does', 'make', 'blac...   \n",
       "243  ['How', 'much', 'money', 'does', 'make', 'blac...   \n",
       "244  ['How', 'much', 'money', 'does', 'make', 'blac...   \n",
       "245  ['How', 'much', 'money', 'does', 'make', 'blac...   \n",
       "246  ['How', 'much', 'money', 'does', 'make', 'blac...   \n",
       "\n",
       "    contentDetails.contentRating.ytRating  \n",
       "242                                   NaN  \n",
       "243                                   NaN  \n",
       "244                                   NaN  \n",
       "245                                   NaN  \n",
       "246                                   NaN  \n",
       "\n",
       "[5 rows x 26 columns]"
      ]
     },
     "execution_count": 11,
     "metadata": {},
     "output_type": "execute_result"
    }
   ],
   "source": [
    "# Tail\n",
    "df.tail()"
   ]
  },
  {
   "cell_type": "code",
   "execution_count": 12,
   "id": "43986627",
   "metadata": {
    "execution": {
     "iopub.execute_input": "2023-11-27T11:16:49.951462Z",
     "iopub.status.busy": "2023-11-27T11:16:49.950412Z",
     "iopub.status.idle": "2023-11-27T11:16:49.958041Z",
     "shell.execute_reply": "2023-11-27T11:16:49.958573Z",
     "shell.execute_reply.started": "2023-11-27T11:15:14.107629Z"
    },
    "papermill": {
     "duration": 0.055176,
     "end_time": "2023-11-27T11:16:49.958775",
     "exception": false,
     "start_time": "2023-11-27T11:16:49.903599",
     "status": "completed"
    },
    "tags": []
   },
   "outputs": [
    {
     "data": {
      "text/plain": [
       "id                                        object\n",
       "title                                     object\n",
       "description                               object\n",
       "publishTime                               object\n",
       "kind_stats                                object\n",
       "duration_seconds                           int64\n",
       "viewCount                                float64\n",
       "likeCount                                float64\n",
       "commentCount                             float64\n",
       "thumbnails.default.url                    object\n",
       "thumbnails.default.width                 float64\n",
       "thumbnails.default.height                float64\n",
       "thumbnails.medium.url                     object\n",
       "thumbnails.medium.width                  float64\n",
       "thumbnails.medium.height                 float64\n",
       "thumbnails.high.url                       object\n",
       "thumbnails.high.width                    float64\n",
       "thumbnails.high.height                   float64\n",
       "contentDetails.duration                   object\n",
       "contentDetails.dimension                  object\n",
       "topicDetails.topicCategories              object\n",
       "snippet.defaultLanguage                   object\n",
       "localizations.en.title                    object\n",
       "localizations.en.description              object\n",
       "snippet.tags                              object\n",
       "contentDetails.contentRating.ytRating     object\n",
       "dtype: object"
      ]
     },
     "execution_count": 12,
     "metadata": {},
     "output_type": "execute_result"
    }
   ],
   "source": [
    "df.dtypes"
   ]
  },
  {
   "cell_type": "markdown",
   "id": "442e86c6",
   "metadata": {
    "papermill": {
     "duration": 0.04501,
     "end_time": "2023-11-27T11:16:50.046901",
     "exception": false,
     "start_time": "2023-11-27T11:16:50.001891",
     "status": "completed"
    },
    "tags": []
   },
   "source": [
    "# Columns and Rows"
   ]
  },
  {
   "cell_type": "code",
   "execution_count": 13,
   "id": "070edc6f",
   "metadata": {
    "execution": {
     "iopub.execute_input": "2023-11-27T11:16:50.137952Z",
     "iopub.status.busy": "2023-11-27T11:16:50.136920Z",
     "iopub.status.idle": "2023-11-27T11:16:50.146713Z",
     "shell.execute_reply": "2023-11-27T11:16:50.146010Z",
     "shell.execute_reply.started": "2023-11-27T11:15:14.121833Z"
    },
    "papermill": {
     "duration": 0.056618,
     "end_time": "2023-11-27T11:16:50.146918",
     "exception": false,
     "start_time": "2023-11-27T11:16:50.090300",
     "status": "completed"
    },
    "tags": []
   },
   "outputs": [
    {
     "data": {
      "text/plain": [
       "id                                                                             cExLQ1o2pDw\n",
       "title                                                      First To Rob Bank Wins $100,000\n",
       "description                              I didnt think he would actually rob the bank.....\n",
       "publishTime                                                      2021-09-26 20:00:06+00:00\n",
       "kind_stats                                                                   youtube#video\n",
       "duration_seconds                                                                       482\n",
       "viewCount                                                                       50008942.0\n",
       "likeCount                                                                        2359606.0\n",
       "commentCount                                                                      120621.0\n",
       "thumbnails.default.url                      https://i.ytimg.com/vi/cExLQ1o2pDw/default.jpg\n",
       "thumbnails.default.width                                                             120.0\n",
       "thumbnails.default.height                                                             90.0\n",
       "thumbnails.medium.url                     https://i.ytimg.com/vi/cExLQ1o2pDw/mqdefault.jpg\n",
       "thumbnails.medium.width                                                              320.0\n",
       "thumbnails.medium.height                                                             180.0\n",
       "thumbnails.high.url                       https://i.ytimg.com/vi/cExLQ1o2pDw/hqdefault.jpg\n",
       "thumbnails.high.width                                                                480.0\n",
       "thumbnails.high.height                                                               360.0\n",
       "contentDetails.duration                                                             PT8M2S\n",
       "contentDetails.dimension                                                                2d\n",
       "topicDetails.topicCategories             ['https://en.wikipedia.org/wiki/Lifestyle_(soc...\n",
       "snippet.defaultLanguage                                                                NaN\n",
       "localizations.en.title                                                                 NaN\n",
       "localizations.en.description                                                           NaN\n",
       "snippet.tags                                                                           NaN\n",
       "contentDetails.contentRating.ytRating                                                  NaN\n",
       "Name: 4, dtype: object"
      ]
     },
     "execution_count": 13,
     "metadata": {},
     "output_type": "execute_result"
    }
   ],
   "source": [
    "df.loc[4]"
   ]
  },
  {
   "cell_type": "code",
   "execution_count": 14,
   "id": "32074e82",
   "metadata": {
    "execution": {
     "iopub.execute_input": "2023-11-27T11:16:50.251525Z",
     "iopub.status.busy": "2023-11-27T11:16:50.250241Z",
     "iopub.status.idle": "2023-11-27T11:16:50.253571Z",
     "shell.execute_reply": "2023-11-27T11:16:50.252896Z",
     "shell.execute_reply.started": "2023-11-27T11:15:14.133231Z"
    },
    "papermill": {
     "duration": 0.05882,
     "end_time": "2023-11-27T11:16:50.253753",
     "exception": false,
     "start_time": "2023-11-27T11:16:50.194933",
     "status": "completed"
    },
    "tags": []
   },
   "outputs": [],
   "source": [
    "# set index like key & values df.loc['TQHEJj68Jew']\n",
    "df = df.set_index('id')"
   ]
  },
  {
   "cell_type": "code",
   "execution_count": 15,
   "id": "a59882d6",
   "metadata": {
    "execution": {
     "iopub.execute_input": "2023-11-27T11:16:50.354258Z",
     "iopub.status.busy": "2023-11-27T11:16:50.353312Z",
     "iopub.status.idle": "2023-11-27T11:16:50.366086Z",
     "shell.execute_reply": "2023-11-27T11:16:50.366648Z",
     "shell.execute_reply.started": "2023-11-27T11:15:14.143022Z"
    },
    "papermill": {
     "duration": 0.063854,
     "end_time": "2023-11-27T11:16:50.366889",
     "exception": false,
     "start_time": "2023-11-27T11:16:50.303035",
     "status": "completed"
    },
    "tags": []
   },
   "outputs": [
    {
     "data": {
      "text/plain": [
       "title                                                 I Got Hunted By A Real Bounty Hunter\n",
       "description                              Sign up for Current w/ my Creator Code \"BEAST\"...\n",
       "publishTime                                                      2021-04-24 20:00:00+00:00\n",
       "kind_stats                                                                   youtube#video\n",
       "duration_seconds                                                                       861\n",
       "viewCount                                                                       84717282.0\n",
       "likeCount                                                                        2876493.0\n",
       "commentCount                                                                      128922.0\n",
       "thumbnails.default.url                      https://i.ytimg.com/vi/TQHEJj68Jew/default.jpg\n",
       "thumbnails.default.width                                                             120.0\n",
       "thumbnails.default.height                                                             90.0\n",
       "thumbnails.medium.url                     https://i.ytimg.com/vi/TQHEJj68Jew/mqdefault.jpg\n",
       "thumbnails.medium.width                                                              320.0\n",
       "thumbnails.medium.height                                                             180.0\n",
       "thumbnails.high.url                       https://i.ytimg.com/vi/TQHEJj68Jew/hqdefault.jpg\n",
       "thumbnails.high.width                                                                480.0\n",
       "thumbnails.high.height                                                               360.0\n",
       "contentDetails.duration                                                           PT14M21S\n",
       "contentDetails.dimension                                                                2d\n",
       "topicDetails.topicCategories             ['https://en.wikipedia.org/wiki/Lifestyle_(soc...\n",
       "snippet.defaultLanguage                                                                NaN\n",
       "localizations.en.title                                                                 NaN\n",
       "localizations.en.description                                                           NaN\n",
       "snippet.tags                                                                           NaN\n",
       "contentDetails.contentRating.ytRating                                                  NaN\n",
       "Name: TQHEJj68Jew, dtype: object"
      ]
     },
     "execution_count": 15,
     "metadata": {},
     "output_type": "execute_result"
    }
   ],
   "source": [
    "df.loc['TQHEJj68Jew']"
   ]
  },
  {
   "cell_type": "markdown",
   "id": "5673b6ba",
   "metadata": {
    "papermill": {
     "duration": 0.046734,
     "end_time": "2023-11-27T11:16:50.461723",
     "exception": false,
     "start_time": "2023-11-27T11:16:50.414989",
     "status": "completed"
    },
    "tags": []
   },
   "source": [
    "## Subsetting Data"
   ]
  },
  {
   "cell_type": "code",
   "execution_count": 16,
   "id": "62b1a5d9",
   "metadata": {
    "execution": {
     "iopub.execute_input": "2023-11-27T11:16:50.563796Z",
     "iopub.status.busy": "2023-11-27T11:16:50.562982Z",
     "iopub.status.idle": "2023-11-27T11:16:50.566016Z",
     "shell.execute_reply": "2023-11-27T11:16:50.566594Z",
     "shell.execute_reply.started": "2023-11-27T11:15:14.162290Z"
    },
    "papermill": {
     "duration": 0.056963,
     "end_time": "2023-11-27T11:16:50.566813",
     "exception": false,
     "start_time": "2023-11-27T11:16:50.509850",
     "status": "completed"
    },
    "tags": []
   },
   "outputs": [
    {
     "data": {
      "text/plain": [
       "(247, 25)"
      ]
     },
     "execution_count": 16,
     "metadata": {},
     "output_type": "execute_result"
    }
   ],
   "source": [
    "df.shape"
   ]
  },
  {
   "cell_type": "code",
   "execution_count": 17,
   "id": "7efe8ba8",
   "metadata": {
    "execution": {
     "iopub.execute_input": "2023-11-27T11:16:50.664977Z",
     "iopub.status.busy": "2023-11-27T11:16:50.664171Z",
     "iopub.status.idle": "2023-11-27T11:16:50.672683Z",
     "shell.execute_reply": "2023-11-27T11:16:50.671992Z",
     "shell.execute_reply.started": "2023-11-27T11:15:14.170265Z"
    },
    "papermill": {
     "duration": 0.060248,
     "end_time": "2023-11-27T11:16:50.672869",
     "exception": false,
     "start_time": "2023-11-27T11:16:50.612621",
     "status": "completed"
    },
    "tags": []
   },
   "outputs": [],
   "source": [
    "# Subsetting Columns\n",
    "df = df[['title', 'description', 'publishTime',\n",
    "         'duration_seconds', 'viewCount', 'likeCount',\n",
    "         'commentCount']]\n"
   ]
  },
  {
   "cell_type": "code",
   "execution_count": 18,
   "id": "23dceb52",
   "metadata": {
    "execution": {
     "iopub.execute_input": "2023-11-27T11:16:50.771437Z",
     "iopub.status.busy": "2023-11-27T11:16:50.770635Z",
     "iopub.status.idle": "2023-11-27T11:16:50.792492Z",
     "shell.execute_reply": "2023-11-27T11:16:50.793131Z",
     "shell.execute_reply.started": "2023-11-27T11:15:14.182194Z"
    },
    "papermill": {
     "duration": 0.07433,
     "end_time": "2023-11-27T11:16:50.793362",
     "exception": false,
     "start_time": "2023-11-27T11:16:50.719032",
     "status": "completed"
    },
    "tags": []
   },
   "outputs": [
    {
     "data": {
      "text/html": [
       "<div>\n",
       "<style scoped>\n",
       "    .dataframe tbody tr th:only-of-type {\n",
       "        vertical-align: middle;\n",
       "    }\n",
       "\n",
       "    .dataframe tbody tr th {\n",
       "        vertical-align: top;\n",
       "    }\n",
       "\n",
       "    .dataframe thead th {\n",
       "        text-align: right;\n",
       "    }\n",
       "</style>\n",
       "<table border=\"1\" class=\"dataframe\">\n",
       "  <thead>\n",
       "    <tr style=\"text-align: right;\">\n",
       "      <th></th>\n",
       "      <th>title</th>\n",
       "      <th>description</th>\n",
       "      <th>publishTime</th>\n",
       "      <th>duration_seconds</th>\n",
       "      <th>viewCount</th>\n",
       "      <th>likeCount</th>\n",
       "      <th>commentCount</th>\n",
       "    </tr>\n",
       "    <tr>\n",
       "      <th>id</th>\n",
       "      <th></th>\n",
       "      <th></th>\n",
       "      <th></th>\n",
       "      <th></th>\n",
       "      <th></th>\n",
       "      <th></th>\n",
       "      <th></th>\n",
       "    </tr>\n",
       "  </thead>\n",
       "  <tbody>\n",
       "    <tr>\n",
       "      <th>TQHEJj68Jew</th>\n",
       "      <td>I Got Hunted By A Real Bounty Hunter</td>\n",
       "      <td>Sign up for Current w/ my Creator Code \"BEAST\"...</td>\n",
       "      <td>2021-04-24 20:00:00+00:00</td>\n",
       "      <td>861</td>\n",
       "      <td>84717282.0</td>\n",
       "      <td>2876493.0</td>\n",
       "      <td>128922.0</td>\n",
       "    </tr>\n",
       "    <tr>\n",
       "      <th>00NgUctWoLQ</th>\n",
       "      <td>Extreme $1,000,000 Hide And Seek</td>\n",
       "      <td>I didn't expect that to happen at the end I wa...</td>\n",
       "      <td>2021-12-18 21:00:00+00:00</td>\n",
       "      <td>729</td>\n",
       "      <td>32090178.0</td>\n",
       "      <td>2125183.0</td>\n",
       "      <td>73593.0</td>\n",
       "    </tr>\n",
       "    <tr>\n",
       "      <th>ayXxwJJId_c</th>\n",
       "      <td>I Bought The World&amp;#39;s Largest Mystery Box! ...</td>\n",
       "      <td>I cant believe I spent over $500000 on mystery...</td>\n",
       "      <td>2021-04-03 20:00:01+00:00</td>\n",
       "      <td>709</td>\n",
       "      <td>101745632.0</td>\n",
       "      <td>3110824.0</td>\n",
       "      <td>162796.0</td>\n",
       "    </tr>\n",
       "    <tr>\n",
       "      <th>cExLQ1o2pDw</th>\n",
       "      <td>First To Rob Bank Wins $100,000</td>\n",
       "      <td>I didnt think he would actually rob the bank.....</td>\n",
       "      <td>2021-09-26 20:00:06+00:00</td>\n",
       "      <td>482</td>\n",
       "      <td>50008942.0</td>\n",
       "      <td>2359606.0</td>\n",
       "      <td>120621.0</td>\n",
       "    </tr>\n",
       "    <tr>\n",
       "      <th>GLoeAJUcz38</th>\n",
       "      <td>Press This Button To Win $100,000!</td>\n",
       "      <td>Push the red subscribe button and you could al...</td>\n",
       "      <td>2020-11-14 21:00:02+00:00</td>\n",
       "      <td>911</td>\n",
       "      <td>145527042.0</td>\n",
       "      <td>2762425.0</td>\n",
       "      <td>83853.0</td>\n",
       "    </tr>\n",
       "    <tr>\n",
       "      <th>...</th>\n",
       "      <td>...</td>\n",
       "      <td>...</td>\n",
       "      <td>...</td>\n",
       "      <td>...</td>\n",
       "      <td>...</td>\n",
       "      <td>...</td>\n",
       "      <td>...</td>\n",
       "    </tr>\n",
       "    <tr>\n",
       "      <th>xWcldHxHFpo</th>\n",
       "      <td>I Counted To 100,000!</td>\n",
       "      <td>I can't believe I did this.. Like or I eat you...</td>\n",
       "      <td>2017-01-09 00:00:39+00:00</td>\n",
       "      <td>85686</td>\n",
       "      <td>24636026.0</td>\n",
       "      <td>1162093.0</td>\n",
       "      <td>123360.0</td>\n",
       "    </tr>\n",
       "    <tr>\n",
       "      <th>mGIpOtncmSM</th>\n",
       "      <td>Saying Pewdiepie 100,000 Times</td>\n",
       "      <td>I SAID HIS NAME 100000 TIMES TO STOP TSERIES I...</td>\n",
       "      <td>2018-11-25 21:07:01+00:00</td>\n",
       "      <td>42520</td>\n",
       "      <td>21226054.0</td>\n",
       "      <td>1451683.0</td>\n",
       "      <td>173172.0</td>\n",
       "    </tr>\n",
       "    <tr>\n",
       "      <th>9CVwXBYVqVk</th>\n",
       "      <td>Counting To 200,000 (Road To A Mil)</td>\n",
       "      <td>I can't believe I did this *expand* Like I sai...</td>\n",
       "      <td>2017-02-18 00:00:03+00:00</td>\n",
       "      <td>84878</td>\n",
       "      <td>3357112.0</td>\n",
       "      <td>133927.0</td>\n",
       "      <td>19482.0</td>\n",
       "    </tr>\n",
       "    <tr>\n",
       "      <th>2IGxSOfsBok</th>\n",
       "      <td>I Hate Pewdiepie!!!!!</td>\n",
       "      <td>I pretty much explain it in the video. I dont ...</td>\n",
       "      <td>2014-02-01 00:16:57+00:00</td>\n",
       "      <td>126</td>\n",
       "      <td>2660347.0</td>\n",
       "      <td>220560.0</td>\n",
       "      <td>15901.0</td>\n",
       "    </tr>\n",
       "    <tr>\n",
       "      <th>bEIK5ni_Pzs</th>\n",
       "      <td>How Many People Get The Diamond Play Button?????</td>\n",
       "      <td>This is about the new diamond play button that...</td>\n",
       "      <td>2015-07-25 10:00:03+00:00</td>\n",
       "      <td>236</td>\n",
       "      <td>1711032.0</td>\n",
       "      <td>16809.0</td>\n",
       "      <td>2775.0</td>\n",
       "    </tr>\n",
       "  </tbody>\n",
       "</table>\n",
       "<p>203 rows × 7 columns</p>\n",
       "</div>"
      ],
      "text/plain": [
       "                                                         title  \\\n",
       "id                                                               \n",
       "TQHEJj68Jew               I Got Hunted By A Real Bounty Hunter   \n",
       "00NgUctWoLQ                   Extreme $1,000,000 Hide And Seek   \n",
       "ayXxwJJId_c  I Bought The World&#39;s Largest Mystery Box! ...   \n",
       "cExLQ1o2pDw                    First To Rob Bank Wins $100,000   \n",
       "GLoeAJUcz38                 Press This Button To Win $100,000!   \n",
       "...                                                        ...   \n",
       "xWcldHxHFpo                              I Counted To 100,000!   \n",
       "mGIpOtncmSM                     Saying Pewdiepie 100,000 Times   \n",
       "9CVwXBYVqVk                Counting To 200,000 (Road To A Mil)   \n",
       "2IGxSOfsBok                              I Hate Pewdiepie!!!!!   \n",
       "bEIK5ni_Pzs   How Many People Get The Diamond Play Button?????   \n",
       "\n",
       "                                                   description  \\\n",
       "id                                                               \n",
       "TQHEJj68Jew  Sign up for Current w/ my Creator Code \"BEAST\"...   \n",
       "00NgUctWoLQ  I didn't expect that to happen at the end I wa...   \n",
       "ayXxwJJId_c  I cant believe I spent over $500000 on mystery...   \n",
       "cExLQ1o2pDw  I didnt think he would actually rob the bank.....   \n",
       "GLoeAJUcz38  Push the red subscribe button and you could al...   \n",
       "...                                                        ...   \n",
       "xWcldHxHFpo  I can't believe I did this.. Like or I eat you...   \n",
       "mGIpOtncmSM  I SAID HIS NAME 100000 TIMES TO STOP TSERIES I...   \n",
       "9CVwXBYVqVk  I can't believe I did this *expand* Like I sai...   \n",
       "2IGxSOfsBok  I pretty much explain it in the video. I dont ...   \n",
       "bEIK5ni_Pzs  This is about the new diamond play button that...   \n",
       "\n",
       "                           publishTime  duration_seconds    viewCount  \\\n",
       "id                                                                      \n",
       "TQHEJj68Jew  2021-04-24 20:00:00+00:00               861   84717282.0   \n",
       "00NgUctWoLQ  2021-12-18 21:00:00+00:00               729   32090178.0   \n",
       "ayXxwJJId_c  2021-04-03 20:00:01+00:00               709  101745632.0   \n",
       "cExLQ1o2pDw  2021-09-26 20:00:06+00:00               482   50008942.0   \n",
       "GLoeAJUcz38  2020-11-14 21:00:02+00:00               911  145527042.0   \n",
       "...                                ...               ...          ...   \n",
       "xWcldHxHFpo  2017-01-09 00:00:39+00:00             85686   24636026.0   \n",
       "mGIpOtncmSM  2018-11-25 21:07:01+00:00             42520   21226054.0   \n",
       "9CVwXBYVqVk  2017-02-18 00:00:03+00:00             84878    3357112.0   \n",
       "2IGxSOfsBok  2014-02-01 00:16:57+00:00               126    2660347.0   \n",
       "bEIK5ni_Pzs  2015-07-25 10:00:03+00:00               236    1711032.0   \n",
       "\n",
       "             likeCount  commentCount  \n",
       "id                                    \n",
       "TQHEJj68Jew  2876493.0      128922.0  \n",
       "00NgUctWoLQ  2125183.0       73593.0  \n",
       "ayXxwJJId_c  3110824.0      162796.0  \n",
       "cExLQ1o2pDw  2359606.0      120621.0  \n",
       "GLoeAJUcz38  2762425.0       83853.0  \n",
       "...                ...           ...  \n",
       "xWcldHxHFpo  1162093.0      123360.0  \n",
       "mGIpOtncmSM  1451683.0      173172.0  \n",
       "9CVwXBYVqVk   133927.0       19482.0  \n",
       "2IGxSOfsBok   220560.0       15901.0  \n",
       "bEIK5ni_Pzs    16809.0        2775.0  \n",
       "\n",
       "[203 rows x 7 columns]"
      ]
     },
     "execution_count": 18,
     "metadata": {},
     "output_type": "execute_result"
    }
   ],
   "source": [
    "#Subsetting using loc\n",
    "df.loc[df['viewCount'] > 1_000_000]\n"
   ]
  },
  {
   "cell_type": "code",
   "execution_count": 19,
   "id": "8805bf26",
   "metadata": {
    "execution": {
     "iopub.execute_input": "2023-11-27T11:16:50.915721Z",
     "iopub.status.busy": "2023-11-27T11:16:50.900225Z",
     "iopub.status.idle": "2023-11-27T11:16:50.920116Z",
     "shell.execute_reply": "2023-11-27T11:16:50.920814Z",
     "shell.execute_reply.started": "2023-11-27T11:15:14.213291Z"
    },
    "papermill": {
     "duration": 0.080389,
     "end_time": "2023-11-27T11:16:50.921046",
     "exception": false,
     "start_time": "2023-11-27T11:16:50.840657",
     "status": "completed"
    },
    "tags": []
   },
   "outputs": [
    {
     "data": {
      "text/html": [
       "<div>\n",
       "<style scoped>\n",
       "    .dataframe tbody tr th:only-of-type {\n",
       "        vertical-align: middle;\n",
       "    }\n",
       "\n",
       "    .dataframe tbody tr th {\n",
       "        vertical-align: top;\n",
       "    }\n",
       "\n",
       "    .dataframe thead th {\n",
       "        text-align: right;\n",
       "    }\n",
       "</style>\n",
       "<table border=\"1\" class=\"dataframe\">\n",
       "  <thead>\n",
       "    <tr style=\"text-align: right;\">\n",
       "      <th></th>\n",
       "      <th>title</th>\n",
       "      <th>description</th>\n",
       "      <th>publishTime</th>\n",
       "      <th>duration_seconds</th>\n",
       "      <th>viewCount</th>\n",
       "      <th>likeCount</th>\n",
       "      <th>commentCount</th>\n",
       "    </tr>\n",
       "    <tr>\n",
       "      <th>id</th>\n",
       "      <th></th>\n",
       "      <th></th>\n",
       "      <th></th>\n",
       "      <th></th>\n",
       "      <th></th>\n",
       "      <th></th>\n",
       "      <th></th>\n",
       "    </tr>\n",
       "  </thead>\n",
       "  <tbody>\n",
       "    <tr>\n",
       "      <th>TQHEJj68Jew</th>\n",
       "      <td>I Got Hunted By A Real Bounty Hunter</td>\n",
       "      <td>Sign up for Current w/ my Creator Code \"BEAST\"...</td>\n",
       "      <td>2021-04-24 20:00:00+00:00</td>\n",
       "      <td>861</td>\n",
       "      <td>84717282.0</td>\n",
       "      <td>2876493.0</td>\n",
       "      <td>128922.0</td>\n",
       "    </tr>\n",
       "    <tr>\n",
       "      <th>00NgUctWoLQ</th>\n",
       "      <td>Extreme $1,000,000 Hide And Seek</td>\n",
       "      <td>I didn't expect that to happen at the end I wa...</td>\n",
       "      <td>2021-12-18 21:00:00+00:00</td>\n",
       "      <td>729</td>\n",
       "      <td>32090178.0</td>\n",
       "      <td>2125183.0</td>\n",
       "      <td>73593.0</td>\n",
       "    </tr>\n",
       "    <tr>\n",
       "      <th>ayXxwJJId_c</th>\n",
       "      <td>I Bought The World&amp;#39;s Largest Mystery Box! ...</td>\n",
       "      <td>I cant believe I spent over $500000 on mystery...</td>\n",
       "      <td>2021-04-03 20:00:01+00:00</td>\n",
       "      <td>709</td>\n",
       "      <td>101745632.0</td>\n",
       "      <td>3110824.0</td>\n",
       "      <td>162796.0</td>\n",
       "    </tr>\n",
       "    <tr>\n",
       "      <th>cExLQ1o2pDw</th>\n",
       "      <td>First To Rob Bank Wins $100,000</td>\n",
       "      <td>I didnt think he would actually rob the bank.....</td>\n",
       "      <td>2021-09-26 20:00:06+00:00</td>\n",
       "      <td>482</td>\n",
       "      <td>50008942.0</td>\n",
       "      <td>2359606.0</td>\n",
       "      <td>120621.0</td>\n",
       "    </tr>\n",
       "    <tr>\n",
       "      <th>GLoeAJUcz38</th>\n",
       "      <td>Press This Button To Win $100,000!</td>\n",
       "      <td>Push the red subscribe button and you could al...</td>\n",
       "      <td>2020-11-14 21:00:02+00:00</td>\n",
       "      <td>911</td>\n",
       "      <td>145527042.0</td>\n",
       "      <td>2762425.0</td>\n",
       "      <td>83853.0</td>\n",
       "    </tr>\n",
       "    <tr>\n",
       "      <th>...</th>\n",
       "      <td>...</td>\n",
       "      <td>...</td>\n",
       "      <td>...</td>\n",
       "      <td>...</td>\n",
       "      <td>...</td>\n",
       "      <td>...</td>\n",
       "      <td>...</td>\n",
       "    </tr>\n",
       "    <tr>\n",
       "      <th>AS5CxLCWq-Q</th>\n",
       "      <td>Watching Dance Till You&amp;#39;re Dead For 10 Hours</td>\n",
       "      <td>I WATCHED THE WHOLE VIDEO Enter $500 Giveaway ...</td>\n",
       "      <td>2017-03-21 22:40:12+00:00</td>\n",
       "      <td>36001</td>\n",
       "      <td>41577835.0</td>\n",
       "      <td>1973190.0</td>\n",
       "      <td>NaN</td>\n",
       "    </tr>\n",
       "    <tr>\n",
       "      <th>9Ax56oRhcZc</th>\n",
       "      <td>Counting To 10000 In One Sitting</td>\n",
       "      <td>Counting To 10000 In One Sitting -------------...</td>\n",
       "      <td>2016-02-01 00:27:55+00:00</td>\n",
       "      <td>12581</td>\n",
       "      <td>28634115.0</td>\n",
       "      <td>463400.0</td>\n",
       "      <td>48241.0</td>\n",
       "    </tr>\n",
       "    <tr>\n",
       "      <th>ZJwX2jTXWwQ</th>\n",
       "      <td>Watching It&amp;#39;s Everyday Bro For 10 Hours St...</td>\n",
       "      <td>10 hours of suffering WE WROTE, SHOT, and EDIT...</td>\n",
       "      <td>2017-06-17 21:06:02+00:00</td>\n",
       "      <td>36011</td>\n",
       "      <td>26678886.0</td>\n",
       "      <td>784884.0</td>\n",
       "      <td>72610.0</td>\n",
       "    </tr>\n",
       "    <tr>\n",
       "      <th>xWcldHxHFpo</th>\n",
       "      <td>I Counted To 100,000!</td>\n",
       "      <td>I can't believe I did this.. Like or I eat you...</td>\n",
       "      <td>2017-01-09 00:00:39+00:00</td>\n",
       "      <td>85686</td>\n",
       "      <td>24636026.0</td>\n",
       "      <td>1162093.0</td>\n",
       "      <td>123360.0</td>\n",
       "    </tr>\n",
       "    <tr>\n",
       "      <th>mGIpOtncmSM</th>\n",
       "      <td>Saying Pewdiepie 100,000 Times</td>\n",
       "      <td>I SAID HIS NAME 100000 TIMES TO STOP TSERIES I...</td>\n",
       "      <td>2018-11-25 21:07:01+00:00</td>\n",
       "      <td>42520</td>\n",
       "      <td>21226054.0</td>\n",
       "      <td>1451683.0</td>\n",
       "      <td>173172.0</td>\n",
       "    </tr>\n",
       "  </tbody>\n",
       "</table>\n",
       "<p>189 rows × 7 columns</p>\n",
       "</div>"
      ],
      "text/plain": [
       "                                                         title  \\\n",
       "id                                                               \n",
       "TQHEJj68Jew               I Got Hunted By A Real Bounty Hunter   \n",
       "00NgUctWoLQ                   Extreme $1,000,000 Hide And Seek   \n",
       "ayXxwJJId_c  I Bought The World&#39;s Largest Mystery Box! ...   \n",
       "cExLQ1o2pDw                    First To Rob Bank Wins $100,000   \n",
       "GLoeAJUcz38                 Press This Button To Win $100,000!   \n",
       "...                                                        ...   \n",
       "AS5CxLCWq-Q   Watching Dance Till You&#39;re Dead For 10 Hours   \n",
       "9Ax56oRhcZc                   Counting To 10000 In One Sitting   \n",
       "ZJwX2jTXWwQ  Watching It&#39;s Everyday Bro For 10 Hours St...   \n",
       "xWcldHxHFpo                              I Counted To 100,000!   \n",
       "mGIpOtncmSM                     Saying Pewdiepie 100,000 Times   \n",
       "\n",
       "                                                   description  \\\n",
       "id                                                               \n",
       "TQHEJj68Jew  Sign up for Current w/ my Creator Code \"BEAST\"...   \n",
       "00NgUctWoLQ  I didn't expect that to happen at the end I wa...   \n",
       "ayXxwJJId_c  I cant believe I spent over $500000 on mystery...   \n",
       "cExLQ1o2pDw  I didnt think he would actually rob the bank.....   \n",
       "GLoeAJUcz38  Push the red subscribe button and you could al...   \n",
       "...                                                        ...   \n",
       "AS5CxLCWq-Q  I WATCHED THE WHOLE VIDEO Enter $500 Giveaway ...   \n",
       "9Ax56oRhcZc  Counting To 10000 In One Sitting -------------...   \n",
       "ZJwX2jTXWwQ  10 hours of suffering WE WROTE, SHOT, and EDIT...   \n",
       "xWcldHxHFpo  I can't believe I did this.. Like or I eat you...   \n",
       "mGIpOtncmSM  I SAID HIS NAME 100000 TIMES TO STOP TSERIES I...   \n",
       "\n",
       "                           publishTime  duration_seconds    viewCount  \\\n",
       "id                                                                      \n",
       "TQHEJj68Jew  2021-04-24 20:00:00+00:00               861   84717282.0   \n",
       "00NgUctWoLQ  2021-12-18 21:00:00+00:00               729   32090178.0   \n",
       "ayXxwJJId_c  2021-04-03 20:00:01+00:00               709  101745632.0   \n",
       "cExLQ1o2pDw  2021-09-26 20:00:06+00:00               482   50008942.0   \n",
       "GLoeAJUcz38  2020-11-14 21:00:02+00:00               911  145527042.0   \n",
       "...                                ...               ...          ...   \n",
       "AS5CxLCWq-Q  2017-03-21 22:40:12+00:00             36001   41577835.0   \n",
       "9Ax56oRhcZc  2016-02-01 00:27:55+00:00             12581   28634115.0   \n",
       "ZJwX2jTXWwQ  2017-06-17 21:06:02+00:00             36011   26678886.0   \n",
       "xWcldHxHFpo  2017-01-09 00:00:39+00:00             85686   24636026.0   \n",
       "mGIpOtncmSM  2018-11-25 21:07:01+00:00             42520   21226054.0   \n",
       "\n",
       "             likeCount  commentCount  \n",
       "id                                    \n",
       "TQHEJj68Jew  2876493.0      128922.0  \n",
       "00NgUctWoLQ  2125183.0       73593.0  \n",
       "ayXxwJJId_c  3110824.0      162796.0  \n",
       "cExLQ1o2pDw  2359606.0      120621.0  \n",
       "GLoeAJUcz38  2762425.0       83853.0  \n",
       "...                ...           ...  \n",
       "AS5CxLCWq-Q  1973190.0           NaN  \n",
       "9Ax56oRhcZc   463400.0       48241.0  \n",
       "ZJwX2jTXWwQ   784884.0       72610.0  \n",
       "xWcldHxHFpo  1162093.0      123360.0  \n",
       "mGIpOtncmSM  1451683.0      173172.0  \n",
       "\n",
       "[189 rows x 7 columns]"
      ]
     },
     "execution_count": 19,
     "metadata": {},
     "output_type": "execute_result"
    }
   ],
   "source": [
    "df.query('viewCount > 10000000')"
   ]
  },
  {
   "cell_type": "markdown",
   "id": "578ed564",
   "metadata": {
    "papermill": {
     "duration": 0.049851,
     "end_time": "2023-11-27T11:16:51.020547",
     "exception": false,
     "start_time": "2023-11-27T11:16:50.970696",
     "status": "completed"
    },
    "tags": []
   },
   "source": [
    "The code `df.loc[df['viewCount'].isna()]` filters a pandas DataFrame (`df`) to select rows where the 'viewCount' column has missing values (NaN)."
   ]
  },
  {
   "cell_type": "code",
   "execution_count": 20,
   "id": "21a0e5cc",
   "metadata": {
    "execution": {
     "iopub.execute_input": "2023-11-27T11:16:51.127431Z",
     "iopub.status.busy": "2023-11-27T11:16:51.126648Z",
     "iopub.status.idle": "2023-11-27T11:16:51.129889Z",
     "shell.execute_reply": "2023-11-27T11:16:51.130412Z",
     "shell.execute_reply.started": "2023-11-27T11:15:14.244906Z"
    },
    "papermill": {
     "duration": 0.060033,
     "end_time": "2023-11-27T11:16:51.130683",
     "exception": false,
     "start_time": "2023-11-27T11:16:51.070650",
     "status": "completed"
    },
    "tags": []
   },
   "outputs": [],
   "source": [
    "df.loc[df['viewCount'].isna()]\n",
    "df = df.loc[~df['likeCount'].isna()]"
   ]
  },
  {
   "cell_type": "code",
   "execution_count": 21,
   "id": "25f05b5c",
   "metadata": {
    "execution": {
     "iopub.execute_input": "2023-11-27T11:16:51.233650Z",
     "iopub.status.busy": "2023-11-27T11:16:51.232769Z",
     "iopub.status.idle": "2023-11-27T11:16:51.236256Z",
     "shell.execute_reply": "2023-11-27T11:16:51.235586Z",
     "shell.execute_reply.started": "2023-11-27T11:15:14.256332Z"
    },
    "papermill": {
     "duration": 0.058053,
     "end_time": "2023-11-27T11:16:51.236436",
     "exception": false,
     "start_time": "2023-11-27T11:16:51.178383",
     "status": "completed"
    },
    "tags": []
   },
   "outputs": [],
   "source": [
    "df = df.loc[~df['likeCount'].isna()]"
   ]
  },
  {
   "cell_type": "markdown",
   "id": "9d8fca51",
   "metadata": {
    "papermill": {
     "duration": 0.046832,
     "end_time": "2023-11-27T11:16:51.331090",
     "exception": false,
     "start_time": "2023-11-27T11:16:51.284258",
     "status": "completed"
    },
    "tags": []
   },
   "source": [
    "## Casting dtypes"
   ]
  },
  {
   "cell_type": "code",
   "execution_count": 22,
   "id": "bb87593e",
   "metadata": {
    "execution": {
     "iopub.execute_input": "2023-11-27T11:16:51.436464Z",
     "iopub.status.busy": "2023-11-27T11:16:51.435674Z",
     "iopub.status.idle": "2023-11-27T11:16:51.439072Z",
     "shell.execute_reply": "2023-11-27T11:16:51.439615Z",
     "shell.execute_reply.started": "2023-11-27T11:15:14.268134Z"
    },
    "papermill": {
     "duration": 0.059722,
     "end_time": "2023-11-27T11:16:51.439823",
     "exception": false,
     "start_time": "2023-11-27T11:16:51.380101",
     "status": "completed"
    },
    "tags": []
   },
   "outputs": [],
   "source": [
    "df['viewCount'] = df['viewCount'].astype('int')\n",
    "df['likeCount'] = df['likeCount'].astype('int')"
   ]
  },
  {
   "cell_type": "code",
   "execution_count": 23,
   "id": "e31a0518",
   "metadata": {
    "execution": {
     "iopub.execute_input": "2023-11-27T11:16:51.541721Z",
     "iopub.status.busy": "2023-11-27T11:16:51.540929Z",
     "iopub.status.idle": "2023-11-27T11:16:51.544893Z",
     "shell.execute_reply": "2023-11-27T11:16:51.544231Z",
     "shell.execute_reply.started": "2023-11-27T11:15:14.278084Z"
    },
    "papermill": {
     "duration": 0.058703,
     "end_time": "2023-11-27T11:16:51.545060",
     "exception": false,
     "start_time": "2023-11-27T11:16:51.486357",
     "status": "completed"
    },
    "tags": []
   },
   "outputs": [],
   "source": [
    "df['publishTime'] = pd.to_datetime(df['publishTime'])"
   ]
  },
  {
   "cell_type": "code",
   "execution_count": 24,
   "id": "ba73befe",
   "metadata": {
    "execution": {
     "iopub.execute_input": "2023-11-27T11:16:51.649669Z",
     "iopub.status.busy": "2023-11-27T11:16:51.648865Z",
     "iopub.status.idle": "2023-11-27T11:16:51.652488Z",
     "shell.execute_reply": "2023-11-27T11:16:51.651868Z",
     "shell.execute_reply.started": "2023-11-27T11:15:14.292152Z"
    },
    "papermill": {
     "duration": 0.058923,
     "end_time": "2023-11-27T11:16:51.652675",
     "exception": false,
     "start_time": "2023-11-27T11:16:51.593752",
     "status": "completed"
    },
    "tags": []
   },
   "outputs": [],
   "source": [
    "df['likeCount'] = pd.to_numeric(df['likeCount'].astype('str'))"
   ]
  },
  {
   "cell_type": "markdown",
   "id": "d98798bd",
   "metadata": {
    "papermill": {
     "duration": 0.04777,
     "end_time": "2023-11-27T11:16:51.747479",
     "exception": false,
     "start_time": "2023-11-27T11:16:51.699709",
     "status": "completed"
    },
    "tags": []
   },
   "source": [
    "## Creating new column"
   ]
  },
  {
   "cell_type": "code",
   "execution_count": 25,
   "id": "be87c86b",
   "metadata": {
    "execution": {
     "iopub.execute_input": "2023-11-27T11:16:51.852077Z",
     "iopub.status.busy": "2023-11-27T11:16:51.851294Z",
     "iopub.status.idle": "2023-11-27T11:16:51.855304Z",
     "shell.execute_reply": "2023-11-27T11:16:51.854704Z",
     "shell.execute_reply.started": "2023-11-27T11:15:14.303734Z"
    },
    "papermill": {
     "duration": 0.060258,
     "end_time": "2023-11-27T11:16:51.855476",
     "exception": false,
     "start_time": "2023-11-27T11:16:51.795218",
     "status": "completed"
    },
    "tags": []
   },
   "outputs": [],
   "source": [
    "df['like_to_view_ratio'] = df['likeCount'] / df['viewCount']"
   ]
  },
  {
   "cell_type": "markdown",
   "id": "cce414c7",
   "metadata": {
    "papermill": {
     "duration": 0.047762,
     "end_time": "2023-11-27T11:16:51.950134",
     "exception": false,
     "start_time": "2023-11-27T11:16:51.902372",
     "status": "completed"
    },
    "tags": []
   },
   "source": [
    "## Adding new row"
   ]
  },
  {
   "cell_type": "code",
   "execution_count": 26,
   "id": "334cb4e9",
   "metadata": {
    "execution": {
     "iopub.execute_input": "2023-11-27T11:16:52.053241Z",
     "iopub.status.busy": "2023-11-27T11:16:52.052484Z",
     "iopub.status.idle": "2023-11-27T11:16:52.056115Z",
     "shell.execute_reply": "2023-11-27T11:16:52.055483Z",
     "shell.execute_reply.started": "2023-11-27T11:15:14.313300Z"
    },
    "papermill": {
     "duration": 0.057762,
     "end_time": "2023-11-27T11:16:52.056273",
     "exception": false,
     "start_time": "2023-11-27T11:16:51.998511",
     "status": "completed"
    },
    "tags": []
   },
   "outputs": [],
   "source": [
    "df_to_append = df.tail(1)"
   ]
  },
  {
   "cell_type": "code",
   "execution_count": 27,
   "id": "93dd78fb",
   "metadata": {
    "execution": {
     "iopub.execute_input": "2023-11-27T11:16:52.184753Z",
     "iopub.status.busy": "2023-11-27T11:16:52.183960Z",
     "iopub.status.idle": "2023-11-27T11:16:52.188450Z",
     "shell.execute_reply": "2023-11-27T11:16:52.189069Z",
     "shell.execute_reply.started": "2023-11-27T11:15:15.115573Z"
    },
    "papermill": {
     "duration": 0.084014,
     "end_time": "2023-11-27T11:16:52.189292",
     "exception": false,
     "start_time": "2023-11-27T11:16:52.105278",
     "status": "completed"
    },
    "tags": []
   },
   "outputs": [
    {
     "data": {
      "text/html": [
       "<div>\n",
       "<style scoped>\n",
       "    .dataframe tbody tr th:only-of-type {\n",
       "        vertical-align: middle;\n",
       "    }\n",
       "\n",
       "    .dataframe tbody tr th {\n",
       "        vertical-align: top;\n",
       "    }\n",
       "\n",
       "    .dataframe thead th {\n",
       "        text-align: right;\n",
       "    }\n",
       "</style>\n",
       "<table border=\"1\" class=\"dataframe\">\n",
       "  <thead>\n",
       "    <tr style=\"text-align: right;\">\n",
       "      <th></th>\n",
       "      <th>title</th>\n",
       "      <th>description</th>\n",
       "      <th>publishTime</th>\n",
       "      <th>duration_seconds</th>\n",
       "      <th>viewCount</th>\n",
       "      <th>likeCount</th>\n",
       "      <th>commentCount</th>\n",
       "      <th>like_to_view_ratio</th>\n",
       "    </tr>\n",
       "    <tr>\n",
       "      <th>id</th>\n",
       "      <th></th>\n",
       "      <th></th>\n",
       "      <th></th>\n",
       "      <th></th>\n",
       "      <th></th>\n",
       "      <th></th>\n",
       "      <th></th>\n",
       "      <th></th>\n",
       "    </tr>\n",
       "  </thead>\n",
       "  <tbody>\n",
       "    <tr>\n",
       "      <th>TQHEJj68Jew</th>\n",
       "      <td>I Got Hunted By A Real Bounty Hunter</td>\n",
       "      <td>Sign up for Current w/ my Creator Code \"BEAST\"...</td>\n",
       "      <td>2021-04-24 20:00:00+00:00</td>\n",
       "      <td>861</td>\n",
       "      <td>84717282</td>\n",
       "      <td>2876493</td>\n",
       "      <td>128922.0</td>\n",
       "      <td>0.033954</td>\n",
       "    </tr>\n",
       "    <tr>\n",
       "      <th>00NgUctWoLQ</th>\n",
       "      <td>Extreme $1,000,000 Hide And Seek</td>\n",
       "      <td>I didn't expect that to happen at the end I wa...</td>\n",
       "      <td>2021-12-18 21:00:00+00:00</td>\n",
       "      <td>729</td>\n",
       "      <td>32090178</td>\n",
       "      <td>2125183</td>\n",
       "      <td>73593.0</td>\n",
       "      <td>0.066225</td>\n",
       "    </tr>\n",
       "    <tr>\n",
       "      <th>ayXxwJJId_c</th>\n",
       "      <td>I Bought The World&amp;#39;s Largest Mystery Box! ...</td>\n",
       "      <td>I cant believe I spent over $500000 on mystery...</td>\n",
       "      <td>2021-04-03 20:00:01+00:00</td>\n",
       "      <td>709</td>\n",
       "      <td>101745632</td>\n",
       "      <td>3110824</td>\n",
       "      <td>162796.0</td>\n",
       "      <td>0.030575</td>\n",
       "    </tr>\n",
       "    <tr>\n",
       "      <th>cExLQ1o2pDw</th>\n",
       "      <td>First To Rob Bank Wins $100,000</td>\n",
       "      <td>I didnt think he would actually rob the bank.....</td>\n",
       "      <td>2021-09-26 20:00:06+00:00</td>\n",
       "      <td>482</td>\n",
       "      <td>50008942</td>\n",
       "      <td>2359606</td>\n",
       "      <td>120621.0</td>\n",
       "      <td>0.047184</td>\n",
       "    </tr>\n",
       "    <tr>\n",
       "      <th>GLoeAJUcz38</th>\n",
       "      <td>Press This Button To Win $100,000!</td>\n",
       "      <td>Push the red subscribe button and you could al...</td>\n",
       "      <td>2020-11-14 21:00:02+00:00</td>\n",
       "      <td>911</td>\n",
       "      <td>145527042</td>\n",
       "      <td>2762425</td>\n",
       "      <td>83853.0</td>\n",
       "      <td>0.018982</td>\n",
       "    </tr>\n",
       "    <tr>\n",
       "      <th>...</th>\n",
       "      <td>...</td>\n",
       "      <td>...</td>\n",
       "      <td>...</td>\n",
       "      <td>...</td>\n",
       "      <td>...</td>\n",
       "      <td>...</td>\n",
       "      <td>...</td>\n",
       "      <td>...</td>\n",
       "    </tr>\n",
       "    <tr>\n",
       "      <th>X7doE4h6W64</th>\n",
       "      <td>Insane Gun Sync - 7 Hours To Make</td>\n",
       "      <td>Look at this - http://gyazo.com/8852509d2350db...</td>\n",
       "      <td>2015-06-21 12:22:34+00:00</td>\n",
       "      <td>134</td>\n",
       "      <td>15740</td>\n",
       "      <td>637</td>\n",
       "      <td>105.0</td>\n",
       "      <td>0.040470</td>\n",
       "    </tr>\n",
       "    <tr>\n",
       "      <th>AIytwdufwW8</th>\n",
       "      <td>MY MESSAGE TO COD YOUTUBERS (Watch till end plz)</td>\n",
       "      <td>The beginning of the video is a little off top...</td>\n",
       "      <td>2015-05-29 20:07:48+00:00</td>\n",
       "      <td>292</td>\n",
       "      <td>18502</td>\n",
       "      <td>508</td>\n",
       "      <td>117.0</td>\n",
       "      <td>0.027456</td>\n",
       "    </tr>\n",
       "    <tr>\n",
       "      <th>56OkH6ocYZU</th>\n",
       "      <td>L0114R - Biblical Creeper Post for Post @L0114R</td>\n",
       "      <td>His channel - https://www.youtube.com/user/the...</td>\n",
       "      <td>2015-05-15 16:48:54+00:00</td>\n",
       "      <td>109</td>\n",
       "      <td>16627</td>\n",
       "      <td>430</td>\n",
       "      <td>134.0</td>\n",
       "      <td>0.025862</td>\n",
       "    </tr>\n",
       "    <tr>\n",
       "      <th>zi7tZ-2PhLk</th>\n",
       "      <td>How Much Money Do You Make As An Uber Driver??...</td>\n",
       "      <td>In this video I talk about being an uber drive...</td>\n",
       "      <td>2015-05-31 18:31:25+00:00</td>\n",
       "      <td>304</td>\n",
       "      <td>18773</td>\n",
       "      <td>370</td>\n",
       "      <td>59.0</td>\n",
       "      <td>0.019709</td>\n",
       "    </tr>\n",
       "    <tr>\n",
       "      <th>zi7tZ-2PhLk</th>\n",
       "      <td>How Much Money Do You Make As An Uber Driver??...</td>\n",
       "      <td>In this video I talk about being an uber drive...</td>\n",
       "      <td>2015-05-31 18:31:25+00:00</td>\n",
       "      <td>304</td>\n",
       "      <td>18773</td>\n",
       "      <td>370</td>\n",
       "      <td>59.0</td>\n",
       "      <td>0.019709</td>\n",
       "    </tr>\n",
       "  </tbody>\n",
       "</table>\n",
       "<p>245 rows × 8 columns</p>\n",
       "</div>"
      ],
      "text/plain": [
       "                                                         title  \\\n",
       "id                                                               \n",
       "TQHEJj68Jew               I Got Hunted By A Real Bounty Hunter   \n",
       "00NgUctWoLQ                   Extreme $1,000,000 Hide And Seek   \n",
       "ayXxwJJId_c  I Bought The World&#39;s Largest Mystery Box! ...   \n",
       "cExLQ1o2pDw                    First To Rob Bank Wins $100,000   \n",
       "GLoeAJUcz38                 Press This Button To Win $100,000!   \n",
       "...                                                        ...   \n",
       "X7doE4h6W64                  Insane Gun Sync - 7 Hours To Make   \n",
       "AIytwdufwW8   MY MESSAGE TO COD YOUTUBERS (Watch till end plz)   \n",
       "56OkH6ocYZU    L0114R - Biblical Creeper Post for Post @L0114R   \n",
       "zi7tZ-2PhLk  How Much Money Do You Make As An Uber Driver??...   \n",
       "zi7tZ-2PhLk  How Much Money Do You Make As An Uber Driver??...   \n",
       "\n",
       "                                                   description  \\\n",
       "id                                                               \n",
       "TQHEJj68Jew  Sign up for Current w/ my Creator Code \"BEAST\"...   \n",
       "00NgUctWoLQ  I didn't expect that to happen at the end I wa...   \n",
       "ayXxwJJId_c  I cant believe I spent over $500000 on mystery...   \n",
       "cExLQ1o2pDw  I didnt think he would actually rob the bank.....   \n",
       "GLoeAJUcz38  Push the red subscribe button and you could al...   \n",
       "...                                                        ...   \n",
       "X7doE4h6W64  Look at this - http://gyazo.com/8852509d2350db...   \n",
       "AIytwdufwW8  The beginning of the video is a little off top...   \n",
       "56OkH6ocYZU  His channel - https://www.youtube.com/user/the...   \n",
       "zi7tZ-2PhLk  In this video I talk about being an uber drive...   \n",
       "zi7tZ-2PhLk  In this video I talk about being an uber drive...   \n",
       "\n",
       "                          publishTime  duration_seconds  viewCount  likeCount  \\\n",
       "id                                                                              \n",
       "TQHEJj68Jew 2021-04-24 20:00:00+00:00               861   84717282    2876493   \n",
       "00NgUctWoLQ 2021-12-18 21:00:00+00:00               729   32090178    2125183   \n",
       "ayXxwJJId_c 2021-04-03 20:00:01+00:00               709  101745632    3110824   \n",
       "cExLQ1o2pDw 2021-09-26 20:00:06+00:00               482   50008942    2359606   \n",
       "GLoeAJUcz38 2020-11-14 21:00:02+00:00               911  145527042    2762425   \n",
       "...                               ...               ...        ...        ...   \n",
       "X7doE4h6W64 2015-06-21 12:22:34+00:00               134      15740        637   \n",
       "AIytwdufwW8 2015-05-29 20:07:48+00:00               292      18502        508   \n",
       "56OkH6ocYZU 2015-05-15 16:48:54+00:00               109      16627        430   \n",
       "zi7tZ-2PhLk 2015-05-31 18:31:25+00:00               304      18773        370   \n",
       "zi7tZ-2PhLk 2015-05-31 18:31:25+00:00               304      18773        370   \n",
       "\n",
       "             commentCount  like_to_view_ratio  \n",
       "id                                             \n",
       "TQHEJj68Jew      128922.0            0.033954  \n",
       "00NgUctWoLQ       73593.0            0.066225  \n",
       "ayXxwJJId_c      162796.0            0.030575  \n",
       "cExLQ1o2pDw      120621.0            0.047184  \n",
       "GLoeAJUcz38       83853.0            0.018982  \n",
       "...                   ...                 ...  \n",
       "X7doE4h6W64         105.0            0.040470  \n",
       "AIytwdufwW8         117.0            0.027456  \n",
       "56OkH6ocYZU         134.0            0.025862  \n",
       "zi7tZ-2PhLk          59.0            0.019709  \n",
       "zi7tZ-2PhLk          59.0            0.019709  \n",
       "\n",
       "[245 rows x 8 columns]"
      ]
     },
     "execution_count": 27,
     "metadata": {},
     "output_type": "execute_result"
    }
   ],
   "source": [
    "pd.concat([df, df_to_append])"
   ]
  },
  {
   "cell_type": "markdown",
   "id": "ab14c928",
   "metadata": {
    "papermill": {
     "duration": 0.048121,
     "end_time": "2023-11-27T11:16:52.285909",
     "exception": false,
     "start_time": "2023-11-27T11:16:52.237788",
     "status": "completed"
    },
    "tags": []
   },
   "source": [
    "## Plot Examples"
   ]
  },
  {
   "cell_type": "code",
   "execution_count": 28,
   "id": "b9c699e3",
   "metadata": {
    "execution": {
     "iopub.execute_input": "2023-11-27T11:16:52.388699Z",
     "iopub.status.busy": "2023-11-27T11:16:52.387879Z",
     "iopub.status.idle": "2023-11-27T11:16:53.036146Z",
     "shell.execute_reply": "2023-11-27T11:16:53.035524Z",
     "shell.execute_reply.started": "2023-11-27T11:15:15.229113Z"
    },
    "papermill": {
     "duration": 0.702685,
     "end_time": "2023-11-27T11:16:53.036303",
     "exception": false,
     "start_time": "2023-11-27T11:16:52.333618",
     "status": "completed"
    },
    "tags": []
   },
   "outputs": [
    {
     "data": {
      "text/plain": [
       "<AxesSubplot:title={'center':'Distribution of ViewCount'}, ylabel='Frequency'>"
      ]
     },
     "execution_count": 28,
     "metadata": {},
     "output_type": "execute_result"
    },
    {
     "data": {
      "image/png": "[encoded data removed]",
      "text/plain": [
       "<Figure size 1080x360 with 1 Axes>"
      ]
     },
     "metadata": {
      "needs_background": "light"
     },
     "output_type": "display_data"
    }
   ],
   "source": [
    "df['viewCount'].plot(kind='hist', bins=100, title='Distribution of ViewCount',\n",
    "                    figsize=(15,5))"
   ]
  },
  {
   "cell_type": "code",
   "execution_count": 29,
   "id": "da4fc223",
   "metadata": {
    "execution": {
     "iopub.execute_input": "2023-11-27T11:16:53.181609Z",
     "iopub.status.busy": "2023-11-27T11:16:53.142453Z",
     "iopub.status.idle": "2023-11-27T11:16:53.454187Z",
     "shell.execute_reply": "2023-11-27T11:16:53.453348Z",
     "shell.execute_reply.started": "2023-11-27T11:15:16.427704Z"
    },
    "papermill": {
     "duration": 0.369242,
     "end_time": "2023-11-27T11:16:53.454375",
     "exception": false,
     "start_time": "2023-11-27T11:16:53.085133",
     "status": "completed"
    },
    "tags": []
   },
   "outputs": [
    {
     "data": {
      "text/plain": [
       "<AxesSubplot:title={'center':'View vs Like Count'}, xlabel='viewCount', ylabel='likeCount'>"
      ]
     },
     "execution_count": 29,
     "metadata": {},
     "output_type": "execute_result"
    },
    {
     "data": {
      "image/png": "[encoded data removed]",
      "text/plain": [
       "<Figure size 432x288 with 1 Axes>"
      ]
     },
     "metadata": {
      "needs_background": "light"
     },
     "output_type": "display_data"
    }
   ],
   "source": [
    "df.plot(kind='scatter', x='viewCount', y='likeCount', title='View vs Like Count')"
   ]
  },
  {
   "cell_type": "code",
   "execution_count": 30,
   "id": "ae3337b9",
   "metadata": {
    "execution": {
     "iopub.execute_input": "2023-11-27T11:16:53.570350Z",
     "iopub.status.busy": "2023-11-27T11:16:53.569538Z",
     "iopub.status.idle": "2023-11-27T11:16:53.588314Z",
     "shell.execute_reply": "2023-11-27T11:16:53.588970Z",
     "shell.execute_reply.started": "2023-11-27T11:15:16.743113Z"
    },
    "papermill": {
     "duration": 0.079034,
     "end_time": "2023-11-27T11:16:53.589210",
     "exception": false,
     "start_time": "2023-11-27T11:16:53.510176",
     "status": "completed"
    },
    "tags": []
   },
   "outputs": [
    {
     "data": {
      "text/html": [
       "<div>\n",
       "<style scoped>\n",
       "    .dataframe tbody tr th:only-of-type {\n",
       "        vertical-align: middle;\n",
       "    }\n",
       "\n",
       "    .dataframe tbody tr th {\n",
       "        vertical-align: top;\n",
       "    }\n",
       "\n",
       "    .dataframe thead th {\n",
       "        text-align: right;\n",
       "    }\n",
       "</style>\n",
       "<table border=\"1\" class=\"dataframe\">\n",
       "  <thead>\n",
       "    <tr style=\"text-align: right;\">\n",
       "      <th></th>\n",
       "      <th>title</th>\n",
       "      <th>description</th>\n",
       "      <th>publishTime</th>\n",
       "      <th>duration_seconds</th>\n",
       "      <th>viewCount</th>\n",
       "      <th>likeCount</th>\n",
       "      <th>commentCount</th>\n",
       "      <th>like_to_view_ratio</th>\n",
       "    </tr>\n",
       "    <tr>\n",
       "      <th>id</th>\n",
       "      <th></th>\n",
       "      <th></th>\n",
       "      <th></th>\n",
       "      <th></th>\n",
       "      <th></th>\n",
       "      <th></th>\n",
       "      <th></th>\n",
       "      <th></th>\n",
       "    </tr>\n",
       "  </thead>\n",
       "  <tbody>\n",
       "    <tr>\n",
       "      <th>0e3GPea1Tyg</th>\n",
       "      <td>$456,000 Squid Game In Real Life!</td>\n",
       "      <td>MAKE SURE YOU WATCH UNTIL GLASS BRIDGE IT'S IN...</td>\n",
       "      <td>2021-11-24 21:00:01+00:00</td>\n",
       "      <td>1542</td>\n",
       "      <td>178763228</td>\n",
       "      <td>12250732</td>\n",
       "      <td>571946.0</td>\n",
       "      <td>0.068530</td>\n",
       "    </tr>\n",
       "    <tr>\n",
       "      <th>0e3GPea1Tyg</th>\n",
       "      <td>$456,000 Squid Game In Real Life!</td>\n",
       "      <td>MAKE SURE YOU WATCH UNTIL GLASS BRIDGE IT'S IN...</td>\n",
       "      <td>2021-11-24 21:00:01+00:00</td>\n",
       "      <td>1542</td>\n",
       "      <td>178763228</td>\n",
       "      <td>12250732</td>\n",
       "      <td>571946.0</td>\n",
       "      <td>0.068530</td>\n",
       "    </tr>\n",
       "    <tr>\n",
       "      <th>dBxOYE2j55U</th>\n",
       "      <td>Make This Video The Most Liked Video On Youtube</td>\n",
       "      <td>WHAT IS UP LOGANG, MAKE SURE YOU LIKE THE VIDE...</td>\n",
       "      <td>2019-01-16 22:05:01+00:00</td>\n",
       "      <td>791</td>\n",
       "      <td>96523287</td>\n",
       "      <td>19049431</td>\n",
       "      <td>277088.0</td>\n",
       "      <td>0.197356</td>\n",
       "    </tr>\n",
       "  </tbody>\n",
       "</table>\n",
       "</div>"
      ],
      "text/plain": [
       "                                                       title  \\\n",
       "id                                                             \n",
       "0e3GPea1Tyg                $456,000 Squid Game In Real Life!   \n",
       "0e3GPea1Tyg                $456,000 Squid Game In Real Life!   \n",
       "dBxOYE2j55U  Make This Video The Most Liked Video On Youtube   \n",
       "\n",
       "                                                   description  \\\n",
       "id                                                               \n",
       "0e3GPea1Tyg  MAKE SURE YOU WATCH UNTIL GLASS BRIDGE IT'S IN...   \n",
       "0e3GPea1Tyg  MAKE SURE YOU WATCH UNTIL GLASS BRIDGE IT'S IN...   \n",
       "dBxOYE2j55U  WHAT IS UP LOGANG, MAKE SURE YOU LIKE THE VIDE...   \n",
       "\n",
       "                          publishTime  duration_seconds  viewCount  likeCount  \\\n",
       "id                                                                              \n",
       "0e3GPea1Tyg 2021-11-24 21:00:01+00:00              1542  178763228   12250732   \n",
       "0e3GPea1Tyg 2021-11-24 21:00:01+00:00              1542  178763228   12250732   \n",
       "dBxOYE2j55U 2019-01-16 22:05:01+00:00               791   96523287   19049431   \n",
       "\n",
       "             commentCount  like_to_view_ratio  \n",
       "id                                             \n",
       "0e3GPea1Tyg      571946.0            0.068530  \n",
       "0e3GPea1Tyg      571946.0            0.068530  \n",
       "dBxOYE2j55U      277088.0            0.197356  "
      ]
     },
     "execution_count": 30,
     "metadata": {},
     "output_type": "execute_result"
    }
   ],
   "source": [
    "df.query('likeCount > 10000000')"
   ]
  },
  {
   "cell_type": "markdown",
   "id": "5253021b",
   "metadata": {
    "papermill": {
     "duration": 0.052432,
     "end_time": "2023-11-27T11:16:53.696603",
     "exception": false,
     "start_time": "2023-11-27T11:16:53.644171",
     "status": "completed"
    },
    "tags": []
   },
   "source": [
    "## Save our output"
   ]
  },
  {
   "cell_type": "code",
   "execution_count": 31,
   "id": "b2733401",
   "metadata": {
    "execution": {
     "iopub.execute_input": "2023-11-27T11:16:53.811816Z",
     "iopub.status.busy": "2023-11-27T11:16:53.810646Z",
     "iopub.status.idle": "2023-11-27T11:16:53.823750Z",
     "shell.execute_reply": "2023-11-27T11:16:53.824331Z",
     "shell.execute_reply.started": "2023-11-27T11:15:28.536609Z"
    },
    "papermill": {
     "duration": 0.072472,
     "end_time": "2023-11-27T11:16:53.824616",
     "exception": false,
     "start_time": "2023-11-27T11:16:53.752144",
     "status": "completed"
    },
    "tags": []
   },
   "outputs": [],
   "source": [
    "df.to_csv('processed_data.csv')"
   ]
  },
  {
   "cell_type": "code",
   "execution_count": null,
   "id": "3938f6cd",
   "metadata": {
    "papermill": {
     "duration": 0.062359,
     "end_time": "2023-11-27T11:16:53.945455",
     "exception": false,
     "start_time": "2023-11-27T11:16:53.883096",
     "status": "completed"
    },
    "tags": []
   },
   "outputs": [],
   "source": []
  },
  {
   "cell_type": "code",
   "execution_count": null,
   "id": "d77651dc",
   "metadata": {
    "papermill": {
     "duration": 0.054754,
     "end_time": "2023-11-27T11:16:54.075090",
     "exception": false,
     "start_time": "2023-11-27T11:16:54.020336",
     "status": "completed"
    },
    "tags": []
   },
   "outputs": [],
   "source": []
  }
 ],
 "metadata": {
  "kaggle": {
   "accelerator": "none",
   "dataSources": [
    {
     "datasetId": 1807292,
     "sourceId": 2955824,
     "sourceType": "datasetVersion"
    }
   ],
   "dockerImageVersionId": 30152,
   "isGpuEnabled": false,
   "isInternetEnabled": false,
   "language": "python",
   "sourceType": "notebook"
  },
  "kernelspec": {
   "display_name": "Python 3",
   "language": "python",
   "name": "python3"
  },
  "language_info": {
   "codemirror_mode": {
    "name": "ipython",
    "version": 3
   },
   "file_extension": ".py",
   "mimetype": "text/x-python",
   "name": "python",
   "nbconvert_exporter": "python",
   "pygments_lexer": "ipython3",
   "version": "3.7.12"
  },
  "papermill": {
   "default_parameters": {},
   "duration": 18.778702,
   "end_time": "2023-11-27T11:16:55.143477",
   "environment_variables": {},
   "exception": null,
   "input_path": "__notebook__.ipynb",
   "output_path": "__notebook__.ipynb",
   "parameters": {},
   "start_time": "2023-11-27T11:16:36.364775",
   "version": "2.3.3"
  }
 },
 "nbformat": 4,
 "nbformat_minor": 5
}
